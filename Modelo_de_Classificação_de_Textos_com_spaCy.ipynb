{
  "cells": [
    {
      "cell_type": "markdown",
      "metadata": {
        "id": "view-in-github",
        "colab_type": "text"
      },
      "source": [
        "<a href=\"https://colab.research.google.com/github/tokoyamy/analise-de-sentimento/blob/main/Modelo_de_Classifica%C3%A7%C3%A3o_de_Textos_com_spaCy.ipynb\" target=\"_parent\"><img src=\"https://colab.research.google.com/assets/colab-badge.svg\" alt=\"Open In Colab\"/></a>"
      ]
    },
    {
      "cell_type": "markdown",
      "metadata": {
        "id": "AGgw36kc8udU"
      },
      "source": [
        "# Classificação de textos com spaCy"
      ]
    },
    {
      "cell_type": "markdown",
      "metadata": {
        "id": "JtJGnXGi8zt9"
      },
      "source": [
        "# Etapa 1: Importação e instalação das bibliotecas"
      ]
    },
    {
      "cell_type": "code",
      "execution_count": null,
      "metadata": {
        "id": "FIe3Uoki9bnA"
      },
      "outputs": [],
      "source": [
        "!pip install seaborn==0.10.0"
      ]
    },
    {
      "cell_type": "code",
      "execution_count": null,
      "metadata": {
        "id": "T1ZYK4Svri9a"
      },
      "outputs": [],
      "source": [
        "import spacy\n",
        "spacy.__version__"
      ]
    },
    {
      "cell_type": "code",
      "source": [
        "# Temporário por problemas no Colab\n",
        "import locale\n",
        "def getpreferredencoding(do_setlocale = True):\n",
        "    return \"UTF-8\"\n",
        "locale.getpreferredencoding = getpreferredencoding"
      ],
      "metadata": {
        "id": "CUdP26FXGBGw"
      },
      "execution_count": null,
      "outputs": []
    },
    {
      "cell_type": "code",
      "source": [
        "!python -m spacy download pt"
      ],
      "metadata": {
        "id": "aiqbZQpNWeTW"
      },
      "execution_count": null,
      "outputs": []
    },
    {
      "cell_type": "code",
      "execution_count": null,
      "metadata": {
        "id": "DelYAveq8yuX"
      },
      "outputs": [],
      "source": [
        "import pandas as pd\n",
        "import string\n",
        "import spacy\n",
        "import random\n",
        "import seaborn as sns\n",
        "import numpy as np"
      ]
    },
    {
      "cell_type": "code",
      "execution_count": null,
      "metadata": {
        "colab": {
          "base_uri": "https://localhost:8080/"
        },
        "id": "ptvDoi5F4KoZ",
        "outputId": "aca5d85d-da5a-4e26-b2fa-61a555174f2b"
      },
      "outputs": [
        {
          "output_type": "stream",
          "name": "stdout",
          "text": [
            "Mounted at /content/drive\n"
          ]
        }
      ],
      "source": [
        "from google.colab import drive\n",
        "drive.mount('/content/drive')"
      ]
    },
    {
      "cell_type": "markdown",
      "metadata": {
        "id": "iE3VMD8t86ky"
      },
      "source": [
        "# Etapa 2: Carregamento da base de dados"
      ]
    },
    {
      "cell_type": "code",
      "execution_count": null,
      "metadata": {
        "id": "zl8DBGBNsG-h"
      },
      "outputs": [],
      "source": [
        "base_dados = pd.read_csv('/content/base_treinamento.txt', encoding = 'utf-8')"
      ]
    },
    {
      "cell_type": "code",
      "execution_count": null,
      "metadata": {
        "colab": {
          "base_uri": "https://localhost:8080/"
        },
        "id": "SXVFCZ45tHK2",
        "outputId": "ddf9b1b0-dea6-4a6a-f614-632f29f9bd7a"
      },
      "outputs": [
        {
          "output_type": "execute_result",
          "data": {
            "text/plain": [
              "(196, 2)"
            ]
          },
          "metadata": {},
          "execution_count": 9
        }
      ],
      "source": [
        "base_dados.shape"
      ]
    },
    {
      "cell_type": "code",
      "execution_count": null,
      "metadata": {
        "colab": {
          "base_uri": "https://localhost:8080/",
          "height": 206
        },
        "id": "uEzrdS6LtLKN",
        "outputId": "68c64871-f945-4881-ea08-78b435b769d0"
      },
      "outputs": [
        {
          "output_type": "execute_result",
          "data": {
            "text/plain": [
              "                             texto   emocao\n",
              "0        este trabalho é agradável  alegria\n",
              "1  gosto de ficar no seu aconchego  alegria\n",
              "2       fiz a adesão ao curso hoje  alegria\n",
              "3       eu sou admirada por muitos  alegria\n",
              "4                  adoro como você  alegria"
            ],
            "text/html": [
              "\n",
              "  <div id=\"df-20971368-3bb0-44a7-9ad6-8865042187ec\" class=\"colab-df-container\">\n",
              "    <div>\n",
              "<style scoped>\n",
              "    .dataframe tbody tr th:only-of-type {\n",
              "        vertical-align: middle;\n",
              "    }\n",
              "\n",
              "    .dataframe tbody tr th {\n",
              "        vertical-align: top;\n",
              "    }\n",
              "\n",
              "    .dataframe thead th {\n",
              "        text-align: right;\n",
              "    }\n",
              "</style>\n",
              "<table border=\"1\" class=\"dataframe\">\n",
              "  <thead>\n",
              "    <tr style=\"text-align: right;\">\n",
              "      <th></th>\n",
              "      <th>texto</th>\n",
              "      <th>emocao</th>\n",
              "    </tr>\n",
              "  </thead>\n",
              "  <tbody>\n",
              "    <tr>\n",
              "      <th>0</th>\n",
              "      <td>este trabalho é agradável</td>\n",
              "      <td>alegria</td>\n",
              "    </tr>\n",
              "    <tr>\n",
              "      <th>1</th>\n",
              "      <td>gosto de ficar no seu aconchego</td>\n",
              "      <td>alegria</td>\n",
              "    </tr>\n",
              "    <tr>\n",
              "      <th>2</th>\n",
              "      <td>fiz a adesão ao curso hoje</td>\n",
              "      <td>alegria</td>\n",
              "    </tr>\n",
              "    <tr>\n",
              "      <th>3</th>\n",
              "      <td>eu sou admirada por muitos</td>\n",
              "      <td>alegria</td>\n",
              "    </tr>\n",
              "    <tr>\n",
              "      <th>4</th>\n",
              "      <td>adoro como você</td>\n",
              "      <td>alegria</td>\n",
              "    </tr>\n",
              "  </tbody>\n",
              "</table>\n",
              "</div>\n",
              "    <div class=\"colab-df-buttons\">\n",
              "\n",
              "  <div class=\"colab-df-container\">\n",
              "    <button class=\"colab-df-convert\" onclick=\"convertToInteractive('df-20971368-3bb0-44a7-9ad6-8865042187ec')\"\n",
              "            title=\"Convert this dataframe to an interactive table.\"\n",
              "            style=\"display:none;\">\n",
              "\n",
              "  <svg xmlns=\"http://www.w3.org/2000/svg\" height=\"24px\" viewBox=\"0 -960 960 960\">\n",
              "    <path d=\"M120-120v-720h720v720H120Zm60-500h600v-160H180v160Zm220 220h160v-160H400v160Zm0 220h160v-160H400v160ZM180-400h160v-160H180v160Zm440 0h160v-160H620v160ZM180-180h160v-160H180v160Zm440 0h160v-160H620v160Z\"/>\n",
              "  </svg>\n",
              "    </button>\n",
              "\n",
              "  <style>\n",
              "    .colab-df-container {\n",
              "      display:flex;\n",
              "      gap: 12px;\n",
              "    }\n",
              "\n",
              "    .colab-df-convert {\n",
              "      background-color: #E8F0FE;\n",
              "      border: none;\n",
              "      border-radius: 50%;\n",
              "      cursor: pointer;\n",
              "      display: none;\n",
              "      fill: #1967D2;\n",
              "      height: 32px;\n",
              "      padding: 0 0 0 0;\n",
              "      width: 32px;\n",
              "    }\n",
              "\n",
              "    .colab-df-convert:hover {\n",
              "      background-color: #E2EBFA;\n",
              "      box-shadow: 0px 1px 2px rgba(60, 64, 67, 0.3), 0px 1px 3px 1px rgba(60, 64, 67, 0.15);\n",
              "      fill: #174EA6;\n",
              "    }\n",
              "\n",
              "    .colab-df-buttons div {\n",
              "      margin-bottom: 4px;\n",
              "    }\n",
              "\n",
              "    [theme=dark] .colab-df-convert {\n",
              "      background-color: #3B4455;\n",
              "      fill: #D2E3FC;\n",
              "    }\n",
              "\n",
              "    [theme=dark] .colab-df-convert:hover {\n",
              "      background-color: #434B5C;\n",
              "      box-shadow: 0px 1px 3px 1px rgba(0, 0, 0, 0.15);\n",
              "      filter: drop-shadow(0px 1px 2px rgba(0, 0, 0, 0.3));\n",
              "      fill: #FFFFFF;\n",
              "    }\n",
              "  </style>\n",
              "\n",
              "    <script>\n",
              "      const buttonEl =\n",
              "        document.querySelector('#df-20971368-3bb0-44a7-9ad6-8865042187ec button.colab-df-convert');\n",
              "      buttonEl.style.display =\n",
              "        google.colab.kernel.accessAllowed ? 'block' : 'none';\n",
              "\n",
              "      async function convertToInteractive(key) {\n",
              "        const element = document.querySelector('#df-20971368-3bb0-44a7-9ad6-8865042187ec');\n",
              "        const dataTable =\n",
              "          await google.colab.kernel.invokeFunction('convertToInteractive',\n",
              "                                                    [key], {});\n",
              "        if (!dataTable) return;\n",
              "\n",
              "        const docLinkHtml = 'Like what you see? Visit the ' +\n",
              "          '<a target=\"_blank\" href=https://colab.research.google.com/notebooks/data_table.ipynb>data table notebook</a>'\n",
              "          + ' to learn more about interactive tables.';\n",
              "        element.innerHTML = '';\n",
              "        dataTable['output_type'] = 'display_data';\n",
              "        await google.colab.output.renderOutput(dataTable, element);\n",
              "        const docLink = document.createElement('div');\n",
              "        docLink.innerHTML = docLinkHtml;\n",
              "        element.appendChild(docLink);\n",
              "      }\n",
              "    </script>\n",
              "  </div>\n",
              "\n",
              "\n",
              "<div id=\"df-50f6c6d9-11ac-4568-a9fb-ab77ec1c3650\">\n",
              "  <button class=\"colab-df-quickchart\" onclick=\"quickchart('df-50f6c6d9-11ac-4568-a9fb-ab77ec1c3650')\"\n",
              "            title=\"Suggest charts.\"\n",
              "            style=\"display:none;\">\n",
              "\n",
              "<svg xmlns=\"http://www.w3.org/2000/svg\" height=\"24px\"viewBox=\"0 0 24 24\"\n",
              "     width=\"24px\">\n",
              "    <g>\n",
              "        <path d=\"M19 3H5c-1.1 0-2 .9-2 2v14c0 1.1.9 2 2 2h14c1.1 0 2-.9 2-2V5c0-1.1-.9-2-2-2zM9 17H7v-7h2v7zm4 0h-2V7h2v10zm4 0h-2v-4h2v4z\"/>\n",
              "    </g>\n",
              "</svg>\n",
              "  </button>\n",
              "\n",
              "<style>\n",
              "  .colab-df-quickchart {\n",
              "      --bg-color: #E8F0FE;\n",
              "      --fill-color: #1967D2;\n",
              "      --hover-bg-color: #E2EBFA;\n",
              "      --hover-fill-color: #174EA6;\n",
              "      --disabled-fill-color: #AAA;\n",
              "      --disabled-bg-color: #DDD;\n",
              "  }\n",
              "\n",
              "  [theme=dark] .colab-df-quickchart {\n",
              "      --bg-color: #3B4455;\n",
              "      --fill-color: #D2E3FC;\n",
              "      --hover-bg-color: #434B5C;\n",
              "      --hover-fill-color: #FFFFFF;\n",
              "      --disabled-bg-color: #3B4455;\n",
              "      --disabled-fill-color: #666;\n",
              "  }\n",
              "\n",
              "  .colab-df-quickchart {\n",
              "    background-color: var(--bg-color);\n",
              "    border: none;\n",
              "    border-radius: 50%;\n",
              "    cursor: pointer;\n",
              "    display: none;\n",
              "    fill: var(--fill-color);\n",
              "    height: 32px;\n",
              "    padding: 0;\n",
              "    width: 32px;\n",
              "  }\n",
              "\n",
              "  .colab-df-quickchart:hover {\n",
              "    background-color: var(--hover-bg-color);\n",
              "    box-shadow: 0 1px 2px rgba(60, 64, 67, 0.3), 0 1px 3px 1px rgba(60, 64, 67, 0.15);\n",
              "    fill: var(--button-hover-fill-color);\n",
              "  }\n",
              "\n",
              "  .colab-df-quickchart-complete:disabled,\n",
              "  .colab-df-quickchart-complete:disabled:hover {\n",
              "    background-color: var(--disabled-bg-color);\n",
              "    fill: var(--disabled-fill-color);\n",
              "    box-shadow: none;\n",
              "  }\n",
              "\n",
              "  .colab-df-spinner {\n",
              "    border: 2px solid var(--fill-color);\n",
              "    border-color: transparent;\n",
              "    border-bottom-color: var(--fill-color);\n",
              "    animation:\n",
              "      spin 1s steps(1) infinite;\n",
              "  }\n",
              "\n",
              "  @keyframes spin {\n",
              "    0% {\n",
              "      border-color: transparent;\n",
              "      border-bottom-color: var(--fill-color);\n",
              "      border-left-color: var(--fill-color);\n",
              "    }\n",
              "    20% {\n",
              "      border-color: transparent;\n",
              "      border-left-color: var(--fill-color);\n",
              "      border-top-color: var(--fill-color);\n",
              "    }\n",
              "    30% {\n",
              "      border-color: transparent;\n",
              "      border-left-color: var(--fill-color);\n",
              "      border-top-color: var(--fill-color);\n",
              "      border-right-color: var(--fill-color);\n",
              "    }\n",
              "    40% {\n",
              "      border-color: transparent;\n",
              "      border-right-color: var(--fill-color);\n",
              "      border-top-color: var(--fill-color);\n",
              "    }\n",
              "    60% {\n",
              "      border-color: transparent;\n",
              "      border-right-color: var(--fill-color);\n",
              "    }\n",
              "    80% {\n",
              "      border-color: transparent;\n",
              "      border-right-color: var(--fill-color);\n",
              "      border-bottom-color: var(--fill-color);\n",
              "    }\n",
              "    90% {\n",
              "      border-color: transparent;\n",
              "      border-bottom-color: var(--fill-color);\n",
              "    }\n",
              "  }\n",
              "</style>\n",
              "\n",
              "  <script>\n",
              "    async function quickchart(key) {\n",
              "      const quickchartButtonEl =\n",
              "        document.querySelector('#' + key + ' button');\n",
              "      quickchartButtonEl.disabled = true;  // To prevent multiple clicks.\n",
              "      quickchartButtonEl.classList.add('colab-df-spinner');\n",
              "      try {\n",
              "        const charts = await google.colab.kernel.invokeFunction(\n",
              "            'suggestCharts', [key], {});\n",
              "      } catch (error) {\n",
              "        console.error('Error during call to suggestCharts:', error);\n",
              "      }\n",
              "      quickchartButtonEl.classList.remove('colab-df-spinner');\n",
              "      quickchartButtonEl.classList.add('colab-df-quickchart-complete');\n",
              "    }\n",
              "    (() => {\n",
              "      let quickchartButtonEl =\n",
              "        document.querySelector('#df-50f6c6d9-11ac-4568-a9fb-ab77ec1c3650 button');\n",
              "      quickchartButtonEl.style.display =\n",
              "        google.colab.kernel.accessAllowed ? 'block' : 'none';\n",
              "    })();\n",
              "  </script>\n",
              "</div>\n",
              "    </div>\n",
              "  </div>\n"
            ]
          },
          "metadata": {},
          "execution_count": 10
        }
      ],
      "source": [
        "base_dados.head()"
      ]
    },
    {
      "cell_type": "code",
      "execution_count": null,
      "metadata": {
        "colab": {
          "base_uri": "https://localhost:8080/",
          "height": 206
        },
        "id": "g7mE74ILtPY3",
        "outputId": "4b559412-ea11-4987-f835-6aaa99f39ec3"
      },
      "outputs": [
        {
          "output_type": "execute_result",
          "data": {
            "text/plain": [
              "                                                 texto emocao\n",
              "191  estou chocado e amedrontado com este assassina...   medo\n",
              "192  é preciso afugenta com ímpeto este medo do inf...   medo\n",
              "193  políticos usam suas forças para afugentar e am...   medo\n",
              "194       o objetivo disso e apenas me amedrontar mais   medo\n",
              "195                                    isso me apavora   medo"
            ],
            "text/html": [
              "\n",
              "  <div id=\"df-6b6a836b-ad1a-43a6-bcab-705daa3a6fd4\" class=\"colab-df-container\">\n",
              "    <div>\n",
              "<style scoped>\n",
              "    .dataframe tbody tr th:only-of-type {\n",
              "        vertical-align: middle;\n",
              "    }\n",
              "\n",
              "    .dataframe tbody tr th {\n",
              "        vertical-align: top;\n",
              "    }\n",
              "\n",
              "    .dataframe thead th {\n",
              "        text-align: right;\n",
              "    }\n",
              "</style>\n",
              "<table border=\"1\" class=\"dataframe\">\n",
              "  <thead>\n",
              "    <tr style=\"text-align: right;\">\n",
              "      <th></th>\n",
              "      <th>texto</th>\n",
              "      <th>emocao</th>\n",
              "    </tr>\n",
              "  </thead>\n",
              "  <tbody>\n",
              "    <tr>\n",
              "      <th>191</th>\n",
              "      <td>estou chocado e amedrontado com este assassina...</td>\n",
              "      <td>medo</td>\n",
              "    </tr>\n",
              "    <tr>\n",
              "      <th>192</th>\n",
              "      <td>é preciso afugenta com ímpeto este medo do inf...</td>\n",
              "      <td>medo</td>\n",
              "    </tr>\n",
              "    <tr>\n",
              "      <th>193</th>\n",
              "      <td>políticos usam suas forças para afugentar e am...</td>\n",
              "      <td>medo</td>\n",
              "    </tr>\n",
              "    <tr>\n",
              "      <th>194</th>\n",
              "      <td>o objetivo disso e apenas me amedrontar mais</td>\n",
              "      <td>medo</td>\n",
              "    </tr>\n",
              "    <tr>\n",
              "      <th>195</th>\n",
              "      <td>isso me apavora</td>\n",
              "      <td>medo</td>\n",
              "    </tr>\n",
              "  </tbody>\n",
              "</table>\n",
              "</div>\n",
              "    <div class=\"colab-df-buttons\">\n",
              "\n",
              "  <div class=\"colab-df-container\">\n",
              "    <button class=\"colab-df-convert\" onclick=\"convertToInteractive('df-6b6a836b-ad1a-43a6-bcab-705daa3a6fd4')\"\n",
              "            title=\"Convert this dataframe to an interactive table.\"\n",
              "            style=\"display:none;\">\n",
              "\n",
              "  <svg xmlns=\"http://www.w3.org/2000/svg\" height=\"24px\" viewBox=\"0 -960 960 960\">\n",
              "    <path d=\"M120-120v-720h720v720H120Zm60-500h600v-160H180v160Zm220 220h160v-160H400v160Zm0 220h160v-160H400v160ZM180-400h160v-160H180v160Zm440 0h160v-160H620v160ZM180-180h160v-160H180v160Zm440 0h160v-160H620v160Z\"/>\n",
              "  </svg>\n",
              "    </button>\n",
              "\n",
              "  <style>\n",
              "    .colab-df-container {\n",
              "      display:flex;\n",
              "      gap: 12px;\n",
              "    }\n",
              "\n",
              "    .colab-df-convert {\n",
              "      background-color: #E8F0FE;\n",
              "      border: none;\n",
              "      border-radius: 50%;\n",
              "      cursor: pointer;\n",
              "      display: none;\n",
              "      fill: #1967D2;\n",
              "      height: 32px;\n",
              "      padding: 0 0 0 0;\n",
              "      width: 32px;\n",
              "    }\n",
              "\n",
              "    .colab-df-convert:hover {\n",
              "      background-color: #E2EBFA;\n",
              "      box-shadow: 0px 1px 2px rgba(60, 64, 67, 0.3), 0px 1px 3px 1px rgba(60, 64, 67, 0.15);\n",
              "      fill: #174EA6;\n",
              "    }\n",
              "\n",
              "    .colab-df-buttons div {\n",
              "      margin-bottom: 4px;\n",
              "    }\n",
              "\n",
              "    [theme=dark] .colab-df-convert {\n",
              "      background-color: #3B4455;\n",
              "      fill: #D2E3FC;\n",
              "    }\n",
              "\n",
              "    [theme=dark] .colab-df-convert:hover {\n",
              "      background-color: #434B5C;\n",
              "      box-shadow: 0px 1px 3px 1px rgba(0, 0, 0, 0.15);\n",
              "      filter: drop-shadow(0px 1px 2px rgba(0, 0, 0, 0.3));\n",
              "      fill: #FFFFFF;\n",
              "    }\n",
              "  </style>\n",
              "\n",
              "    <script>\n",
              "      const buttonEl =\n",
              "        document.querySelector('#df-6b6a836b-ad1a-43a6-bcab-705daa3a6fd4 button.colab-df-convert');\n",
              "      buttonEl.style.display =\n",
              "        google.colab.kernel.accessAllowed ? 'block' : 'none';\n",
              "\n",
              "      async function convertToInteractive(key) {\n",
              "        const element = document.querySelector('#df-6b6a836b-ad1a-43a6-bcab-705daa3a6fd4');\n",
              "        const dataTable =\n",
              "          await google.colab.kernel.invokeFunction('convertToInteractive',\n",
              "                                                    [key], {});\n",
              "        if (!dataTable) return;\n",
              "\n",
              "        const docLinkHtml = 'Like what you see? Visit the ' +\n",
              "          '<a target=\"_blank\" href=https://colab.research.google.com/notebooks/data_table.ipynb>data table notebook</a>'\n",
              "          + ' to learn more about interactive tables.';\n",
              "        element.innerHTML = '';\n",
              "        dataTable['output_type'] = 'display_data';\n",
              "        await google.colab.output.renderOutput(dataTable, element);\n",
              "        const docLink = document.createElement('div');\n",
              "        docLink.innerHTML = docLinkHtml;\n",
              "        element.appendChild(docLink);\n",
              "      }\n",
              "    </script>\n",
              "  </div>\n",
              "\n",
              "\n",
              "<div id=\"df-56de79f6-1a4f-4f0f-b093-1c8ead5a3d8f\">\n",
              "  <button class=\"colab-df-quickchart\" onclick=\"quickchart('df-56de79f6-1a4f-4f0f-b093-1c8ead5a3d8f')\"\n",
              "            title=\"Suggest charts.\"\n",
              "            style=\"display:none;\">\n",
              "\n",
              "<svg xmlns=\"http://www.w3.org/2000/svg\" height=\"24px\"viewBox=\"0 0 24 24\"\n",
              "     width=\"24px\">\n",
              "    <g>\n",
              "        <path d=\"M19 3H5c-1.1 0-2 .9-2 2v14c0 1.1.9 2 2 2h14c1.1 0 2-.9 2-2V5c0-1.1-.9-2-2-2zM9 17H7v-7h2v7zm4 0h-2V7h2v10zm4 0h-2v-4h2v4z\"/>\n",
              "    </g>\n",
              "</svg>\n",
              "  </button>\n",
              "\n",
              "<style>\n",
              "  .colab-df-quickchart {\n",
              "      --bg-color: #E8F0FE;\n",
              "      --fill-color: #1967D2;\n",
              "      --hover-bg-color: #E2EBFA;\n",
              "      --hover-fill-color: #174EA6;\n",
              "      --disabled-fill-color: #AAA;\n",
              "      --disabled-bg-color: #DDD;\n",
              "  }\n",
              "\n",
              "  [theme=dark] .colab-df-quickchart {\n",
              "      --bg-color: #3B4455;\n",
              "      --fill-color: #D2E3FC;\n",
              "      --hover-bg-color: #434B5C;\n",
              "      --hover-fill-color: #FFFFFF;\n",
              "      --disabled-bg-color: #3B4455;\n",
              "      --disabled-fill-color: #666;\n",
              "  }\n",
              "\n",
              "  .colab-df-quickchart {\n",
              "    background-color: var(--bg-color);\n",
              "    border: none;\n",
              "    border-radius: 50%;\n",
              "    cursor: pointer;\n",
              "    display: none;\n",
              "    fill: var(--fill-color);\n",
              "    height: 32px;\n",
              "    padding: 0;\n",
              "    width: 32px;\n",
              "  }\n",
              "\n",
              "  .colab-df-quickchart:hover {\n",
              "    background-color: var(--hover-bg-color);\n",
              "    box-shadow: 0 1px 2px rgba(60, 64, 67, 0.3), 0 1px 3px 1px rgba(60, 64, 67, 0.15);\n",
              "    fill: var(--button-hover-fill-color);\n",
              "  }\n",
              "\n",
              "  .colab-df-quickchart-complete:disabled,\n",
              "  .colab-df-quickchart-complete:disabled:hover {\n",
              "    background-color: var(--disabled-bg-color);\n",
              "    fill: var(--disabled-fill-color);\n",
              "    box-shadow: none;\n",
              "  }\n",
              "\n",
              "  .colab-df-spinner {\n",
              "    border: 2px solid var(--fill-color);\n",
              "    border-color: transparent;\n",
              "    border-bottom-color: var(--fill-color);\n",
              "    animation:\n",
              "      spin 1s steps(1) infinite;\n",
              "  }\n",
              "\n",
              "  @keyframes spin {\n",
              "    0% {\n",
              "      border-color: transparent;\n",
              "      border-bottom-color: var(--fill-color);\n",
              "      border-left-color: var(--fill-color);\n",
              "    }\n",
              "    20% {\n",
              "      border-color: transparent;\n",
              "      border-left-color: var(--fill-color);\n",
              "      border-top-color: var(--fill-color);\n",
              "    }\n",
              "    30% {\n",
              "      border-color: transparent;\n",
              "      border-left-color: var(--fill-color);\n",
              "      border-top-color: var(--fill-color);\n",
              "      border-right-color: var(--fill-color);\n",
              "    }\n",
              "    40% {\n",
              "      border-color: transparent;\n",
              "      border-right-color: var(--fill-color);\n",
              "      border-top-color: var(--fill-color);\n",
              "    }\n",
              "    60% {\n",
              "      border-color: transparent;\n",
              "      border-right-color: var(--fill-color);\n",
              "    }\n",
              "    80% {\n",
              "      border-color: transparent;\n",
              "      border-right-color: var(--fill-color);\n",
              "      border-bottom-color: var(--fill-color);\n",
              "    }\n",
              "    90% {\n",
              "      border-color: transparent;\n",
              "      border-bottom-color: var(--fill-color);\n",
              "    }\n",
              "  }\n",
              "</style>\n",
              "\n",
              "  <script>\n",
              "    async function quickchart(key) {\n",
              "      const quickchartButtonEl =\n",
              "        document.querySelector('#' + key + ' button');\n",
              "      quickchartButtonEl.disabled = true;  // To prevent multiple clicks.\n",
              "      quickchartButtonEl.classList.add('colab-df-spinner');\n",
              "      try {\n",
              "        const charts = await google.colab.kernel.invokeFunction(\n",
              "            'suggestCharts', [key], {});\n",
              "      } catch (error) {\n",
              "        console.error('Error during call to suggestCharts:', error);\n",
              "      }\n",
              "      quickchartButtonEl.classList.remove('colab-df-spinner');\n",
              "      quickchartButtonEl.classList.add('colab-df-quickchart-complete');\n",
              "    }\n",
              "    (() => {\n",
              "      let quickchartButtonEl =\n",
              "        document.querySelector('#df-56de79f6-1a4f-4f0f-b093-1c8ead5a3d8f button');\n",
              "      quickchartButtonEl.style.display =\n",
              "        google.colab.kernel.accessAllowed ? 'block' : 'none';\n",
              "    })();\n",
              "  </script>\n",
              "</div>\n",
              "    </div>\n",
              "  </div>\n"
            ]
          },
          "metadata": {},
          "execution_count": 11
        }
      ],
      "source": [
        "base_dados.tail()"
      ]
    },
    {
      "cell_type": "code",
      "execution_count": null,
      "metadata": {
        "colab": {
          "base_uri": "https://localhost:8080/",
          "height": 449
        },
        "id": "IekRry3jtT53",
        "outputId": "a8f8b054-89eb-4234-9896-0a50abb6ddc6"
      },
      "outputs": [
        {
          "output_type": "display_data",
          "data": {
            "text/plain": [
              "<Figure size 640x480 with 1 Axes>"
            ],
            "image/png": "[encoded data removed]"
          },
          "metadata": {}
        }
      ],
      "source": [
        "sns.countplot(base_dados['emocao'], label = 'Contagem');"
      ]
    },
    {
      "cell_type": "markdown",
      "metadata": {
        "id": "h36-8Ien-AQ1"
      },
      "source": [
        "# Etapa 3: Função para pré-processamento dos textos"
      ]
    },
    {
      "cell_type": "code",
      "execution_count": null,
      "metadata": {
        "colab": {
          "base_uri": "https://localhost:8080/",
          "height": 36
        },
        "id": "a-qD0bc7uBrD",
        "outputId": "588d17f1-e68b-471e-ca35-9577cf020d39"
      },
      "outputs": [
        {
          "output_type": "execute_result",
          "data": {
            "text/plain": [
              "'!\"#$%&\\'()*+,-./:;<=>?@[\\\\]^_`{|}~'"
            ],
            "application/vnd.google.colaboratory.intrinsic+json": {
              "type": "string"
            }
          },
          "metadata": {},
          "execution_count": 13
        }
      ],
      "source": [
        "pontuacoes = string.punctuation\n",
        "pontuacoes"
      ]
    },
    {
      "cell_type": "code",
      "execution_count": null,
      "metadata": {
        "id": "SowU2ch_uNoe"
      },
      "outputs": [],
      "source": [
        "from spacy.lang.pt.stop_words import STOP_WORDS\n",
        "stop_words = STOP_WORDS"
      ]
    },
    {
      "cell_type": "code",
      "execution_count": null,
      "metadata": {
        "colab": {
          "base_uri": "https://localhost:8080/"
        },
        "id": "UilhsfV1uWdo",
        "outputId": "f563fde5-1752-468d-b2d8-7a568b5c38f0"
      },
      "outputs": [
        {
          "output_type": "stream",
          "name": "stdout",
          "text": [
            "{'somente', 'vai', 'povo', 'quinze', 'saber', 'vindo', 'aquele', 'dizer', 'tentaram', 'de', 'três', 'essas', 'devem', 'na', 'faço', 'estiveste', 'aquilo', 'esta', 'teu', 'fora', 'meses', 'muito', 'daquela', 'vêm', 'qualquer', 'nesta', 'muitos', 'cá', 'eventual', 'essa', 'usa', 'menor', 'ligado', 'sobre', 'esse', 'porquê', 'és', 'puderam', 'maiorias', 'minha', 'relação', 'falta', 'nada', 'comprido', 'daquele', 'poderá', 'irá', 'qual', 'forma', 'elas', 'ver', 'iniciar', 'um', 'atrás', 'da', 'quanto', 'nem', 'posso', 'vem', 'numa', 'segundo', 'tem', 'então', 'ponto', 'minhas', 'tudo', 'do', 'sétimo', 'sexta', 'deve', 'mesmo', 'ter', 'tenho', 'ser', 'e', 'isto', 'estão', 'tiveste', 'mal', 'quando', 'partir', 'quatro', 'quê', 'ao', 'como', 'isso', 'outras', 'depois', 'vossos', 'meu', 'conhecida', 'deste', 'seis', 'ainda', 'neste', 'este', 'menos', 'ora', 'grandes', 'dezoito', 'oito', 'dos', 'cuja', 'terceiro', 'para', 'tais', 'sistema', 'apontar', 'lugar', 'dois', 'baixo', 'dezasseis', 'nunca', 'diante', 'era', 'à', 'sou', 'oitavo', 'coisa', 'posição', 'nossos', 'também', 'porém', 'pouco', 'cinco', 'vocês', 'deverá', 'tive', 'contudo', 'esses', 'tivestes', 'lado', 'vens', 'sois', 'primeira', 'vais', 'portanto', 'já', 'foste', 'pois', 'talvez', 'grande', 'me', 'nesse', 'em', 'mês', 'outros', 'tão', 'antes', 'certamente', 'geral', 'nossa', 'mais', 'entre', 'estive', 'maioria', 'vezes', 'próximo', 'área', 'último', 'até', 'próxima', 'todos', 'vos', 'dezassete', 'conhecido', 'dar', 'te', 'demais', 'teus', 'eu', 'após', 'duas', 'exemplo', 'nove', 'estiveram', 'favor', 'tipo', 'no', 'mas', 'fará', 'des', 'ambas', 'ir', 'tu', 'doze', 'tanta', 'bem', 'seu', 'ademais', 'números', 'fostes', 'quarta', 'seria', 'catorze', 'corrente', 'desse', 'ontem', 'umas', 'agora', 'bastante', 'aquela', 'apoio', 'tanto', 'nessa', 'dá', 'tentei', 'num', 'vós', 'vossa', 'por', 'parece', 'número', 'direita', 'segunda', 'conselho', 'podia', 'comprida', 'algo', 'cujo', 'com', 'sob', 'uns', 'diz', 'desde', 'além', 'local', 'quinta', 'está', 'lá', 'põe', 'zero', 'possivelmente', 'todas', 'veja', 'cento', 'pontos', 'aí', 'quais', 'pela', 'suas', 'meio', 'primeiro', 'parte', 'são', 'sexto', 'novo', 'inclusive', 'os', 'sem', 'fazia', 'máximo', 'perto', 'vão', 'fomos', 'terceira', 'esteve', 'ali', 'sempre', 'estou', 'tempo', 'bom', 'estivestes', 'fazem', 'apoia', 'tente', 'vosso', 'teve', 'pôde', 'dizem', 'alguns', 'sua', 'acerca', 'lhe', 'eles', 'outra', 'todo', 'tiveram', 'mil', 'foi', 'podem', 'vários', 'estado', 'dessa', 'final', 'novas', 'aquelas', 'aqueles', 'dão', 'sete', 'momento', 'obrigado', 'tarde', 'sétima', 'custa', 'estes', 'disso', 'dentro', 'nível', 'fazes', 'algumas', 'contra', 'se', 'embora', 'pelos', 'a', 'nenhuma', 'grupo', 'enquanto', 'adeus', 'tuas', 'naquele', 'quinto', 'vinte', 'tendes', 'apenas', 'meus', 'assim', 'obrigada', 'boa', 'as', 'quero', 'sabe', 'cada', 'pode', 'que', 'nos', 'caminho', 'estar', 'vinda', 'têm', 'pegar', 'vossas', 'pelo', 'dezanove', 'quieta', 'ela', 'quem', 'certeza', 'usar', 'cima', 'fez', 'oitava', 'foram', 'onde', 'só', 'somos', 'quieto', 'estás', 'questão', 'uma', 'ambos', 'dez', 'onze', 'estava', 'fui', 'fazemos', 'aqui', 'sei', 'toda', 'não', 'nas', 'porquanto', 'porque', 'quarto', 'cedo', 'poder', 'das', 'ou', 'ele', 'põem', 'desta', 'treze', 'nosso', 'tua', 'nós', 'tal', 'através', 'possível', 'estas', 'naquela', 'o', 'próprio', 'querem', 'breve', 'sim', 'às', 'logo', 'valor', 'quer', 'seus', 'novos', 'fim', 'nossas', 'vez', 'aos', 'nova', 'tentar', 'inicio', 'nuns', 'pouca', 'faz', 'longe', 'debaixo', 'for', 'é', 'pelas', 'estivemos', 'fazeis', 'você', 'tivemos', 'maior', 'tens', 'temos', 'fazer', 'estará'}\n"
          ]
        }
      ],
      "source": [
        "print(stop_words)"
      ]
    },
    {
      "cell_type": "code",
      "execution_count": null,
      "metadata": {
        "colab": {
          "base_uri": "https://localhost:8080/"
        },
        "id": "TCPSvh8buZlX",
        "outputId": "b00c3156-2c74-4b40-a5f9-e4603f2ca10f"
      },
      "outputs": [
        {
          "output_type": "execute_result",
          "data": {
            "text/plain": [
              "416"
            ]
          },
          "metadata": {},
          "execution_count": 16
        }
      ],
      "source": [
        "len(stop_words)"
      ]
    },
    {
      "cell_type": "code",
      "execution_count": null,
      "metadata": {
        "id": "QhF1_72Euc4o"
      },
      "outputs": [],
      "source": [
        "#pln = spacy.load('pt')\n",
        "pln = spacy.load(\"pt_core_news_sm\")"
      ]
    },
    {
      "cell_type": "code",
      "execution_count": null,
      "metadata": {
        "colab": {
          "base_uri": "https://localhost:8080/"
        },
        "id": "BN8Bzd1Dug0v",
        "outputId": "b632fa06-bdbe-41f7-c35f-cc87cad00505"
      },
      "outputs": [
        {
          "output_type": "execute_result",
          "data": {
            "text/plain": [
              "<spacy.lang.pt.Portuguese at 0x79645a4a0c10>"
            ]
          },
          "metadata": {},
          "execution_count": 22
        }
      ],
      "source": [
        "pln"
      ]
    },
    {
      "cell_type": "code",
      "execution_count": null,
      "metadata": {
        "id": "RvCEW_Uqune8"
      },
      "outputs": [],
      "source": [
        "def preprocessamento(texto):\n",
        "  texto = texto.lower()\n",
        "  documento = pln(texto)\n",
        "\n",
        "  lista = []\n",
        "  for token in documento:\n",
        "    #lista.append(token.text)\n",
        "    lista.append(token.lemma_)\n",
        "\n",
        "  lista = [palavra for palavra in lista if palavra not in stop_words and palavra not in pontuacoes]\n",
        "  lista = ' '.join([str(elemento) for elemento in lista if not elemento.isdigit()])\n",
        "\n",
        "  return lista"
      ]
    },
    {
      "cell_type": "code",
      "execution_count": null,
      "metadata": {
        "colab": {
          "base_uri": "https://localhost:8080/",
          "height": 36
        },
        "id": "2_nIBBhYuqsr",
        "outputId": "04f0c15a-caec-4482-bee0-b79d71605cf8"
      },
      "outputs": [
        {
          "output_type": "execute_result",
          "data": {
            "text/plain": [
              "'aprender processamento linguagem natural curso curitiba'"
            ],
            "application/vnd.google.colaboratory.intrinsic+json": {
              "type": "string"
            }
          },
          "metadata": {},
          "execution_count": 24
        }
      ],
      "source": [
        "teste = preprocessamento('Estou aPrendendo 1 10 23 processamento de linguagem natural, Curso em Curitiba')\n",
        "teste"
      ]
    },
    {
      "cell_type": "markdown",
      "metadata": {
        "id": "DtL8DBPVOFoL"
      },
      "source": [
        "# Etapa 4: Pré-processamento da base de dados"
      ]
    },
    {
      "cell_type": "markdown",
      "metadata": {
        "id": "n7G5PSVUOOId"
      },
      "source": [
        "### Limpeza dos textos"
      ]
    },
    {
      "cell_type": "code",
      "execution_count": null,
      "metadata": {
        "colab": {
          "base_uri": "https://localhost:8080/",
          "height": 363
        },
        "id": "hpwZrbUGw58L",
        "outputId": "438d703a-1a03-46ff-bd8d-6d65f2b291cd"
      },
      "outputs": [
        {
          "output_type": "execute_result",
          "data": {
            "text/plain": [
              "                              texto   emocao\n",
              "0         este trabalho é agradável  alegria\n",
              "1   gosto de ficar no seu aconchego  alegria\n",
              "2        fiz a adesão ao curso hoje  alegria\n",
              "3        eu sou admirada por muitos  alegria\n",
              "4                   adoro como você  alegria\n",
              "5            adoro seu cabelo macio  alegria\n",
              "6        adoro a cor dos seus olhos  alegria\n",
              "7   somo tão amáveis um com o outro  alegria\n",
              "8  sinto uma grande afeição por ele  alegria\n",
              "9         quero agradar meus filhos  alegria"
            ],
            "text/html": [
              "\n",
              "  <div id=\"df-747191b3-c8b3-4f3e-8aac-9a9260102d18\" class=\"colab-df-container\">\n",
              "    <div>\n",
              "<style scoped>\n",
              "    .dataframe tbody tr th:only-of-type {\n",
              "        vertical-align: middle;\n",
              "    }\n",
              "\n",
              "    .dataframe tbody tr th {\n",
              "        vertical-align: top;\n",
              "    }\n",
              "\n",
              "    .dataframe thead th {\n",
              "        text-align: right;\n",
              "    }\n",
              "</style>\n",
              "<table border=\"1\" class=\"dataframe\">\n",
              "  <thead>\n",
              "    <tr style=\"text-align: right;\">\n",
              "      <th></th>\n",
              "      <th>texto</th>\n",
              "      <th>emocao</th>\n",
              "    </tr>\n",
              "  </thead>\n",
              "  <tbody>\n",
              "    <tr>\n",
              "      <th>0</th>\n",
              "      <td>este trabalho é agradável</td>\n",
              "      <td>alegria</td>\n",
              "    </tr>\n",
              "    <tr>\n",
              "      <th>1</th>\n",
              "      <td>gosto de ficar no seu aconchego</td>\n",
              "      <td>alegria</td>\n",
              "    </tr>\n",
              "    <tr>\n",
              "      <th>2</th>\n",
              "      <td>fiz a adesão ao curso hoje</td>\n",
              "      <td>alegria</td>\n",
              "    </tr>\n",
              "    <tr>\n",
              "      <th>3</th>\n",
              "      <td>eu sou admirada por muitos</td>\n",
              "      <td>alegria</td>\n",
              "    </tr>\n",
              "    <tr>\n",
              "      <th>4</th>\n",
              "      <td>adoro como você</td>\n",
              "      <td>alegria</td>\n",
              "    </tr>\n",
              "    <tr>\n",
              "      <th>5</th>\n",
              "      <td>adoro seu cabelo macio</td>\n",
              "      <td>alegria</td>\n",
              "    </tr>\n",
              "    <tr>\n",
              "      <th>6</th>\n",
              "      <td>adoro a cor dos seus olhos</td>\n",
              "      <td>alegria</td>\n",
              "    </tr>\n",
              "    <tr>\n",
              "      <th>7</th>\n",
              "      <td>somo tão amáveis um com o outro</td>\n",
              "      <td>alegria</td>\n",
              "    </tr>\n",
              "    <tr>\n",
              "      <th>8</th>\n",
              "      <td>sinto uma grande afeição por ele</td>\n",
              "      <td>alegria</td>\n",
              "    </tr>\n",
              "    <tr>\n",
              "      <th>9</th>\n",
              "      <td>quero agradar meus filhos</td>\n",
              "      <td>alegria</td>\n",
              "    </tr>\n",
              "  </tbody>\n",
              "</table>\n",
              "</div>\n",
              "    <div class=\"colab-df-buttons\">\n",
              "\n",
              "  <div class=\"colab-df-container\">\n",
              "    <button class=\"colab-df-convert\" onclick=\"convertToInteractive('df-747191b3-c8b3-4f3e-8aac-9a9260102d18')\"\n",
              "            title=\"Convert this dataframe to an interactive table.\"\n",
              "            style=\"display:none;\">\n",
              "\n",
              "  <svg xmlns=\"http://www.w3.org/2000/svg\" height=\"24px\" viewBox=\"0 -960 960 960\">\n",
              "    <path d=\"M120-120v-720h720v720H120Zm60-500h600v-160H180v160Zm220 220h160v-160H400v160Zm0 220h160v-160H400v160ZM180-400h160v-160H180v160Zm440 0h160v-160H620v160ZM180-180h160v-160H180v160Zm440 0h160v-160H620v160Z\"/>\n",
              "  </svg>\n",
              "    </button>\n",
              "\n",
              "  <style>\n",
              "    .colab-df-container {\n",
              "      display:flex;\n",
              "      gap: 12px;\n",
              "    }\n",
              "\n",
              "    .colab-df-convert {\n",
              "      background-color: #E8F0FE;\n",
              "      border: none;\n",
              "      border-radius: 50%;\n",
              "      cursor: pointer;\n",
              "      display: none;\n",
              "      fill: #1967D2;\n",
              "      height: 32px;\n",
              "      padding: 0 0 0 0;\n",
              "      width: 32px;\n",
              "    }\n",
              "\n",
              "    .colab-df-convert:hover {\n",
              "      background-color: #E2EBFA;\n",
              "      box-shadow: 0px 1px 2px rgba(60, 64, 67, 0.3), 0px 1px 3px 1px rgba(60, 64, 67, 0.15);\n",
              "      fill: #174EA6;\n",
              "    }\n",
              "\n",
              "    .colab-df-buttons div {\n",
              "      margin-bottom: 4px;\n",
              "    }\n",
              "\n",
              "    [theme=dark] .colab-df-convert {\n",
              "      background-color: #3B4455;\n",
              "      fill: #D2E3FC;\n",
              "    }\n",
              "\n",
              "    [theme=dark] .colab-df-convert:hover {\n",
              "      background-color: #434B5C;\n",
              "      box-shadow: 0px 1px 3px 1px rgba(0, 0, 0, 0.15);\n",
              "      filter: drop-shadow(0px 1px 2px rgba(0, 0, 0, 0.3));\n",
              "      fill: #FFFFFF;\n",
              "    }\n",
              "  </style>\n",
              "\n",
              "    <script>\n",
              "      const buttonEl =\n",
              "        document.querySelector('#df-747191b3-c8b3-4f3e-8aac-9a9260102d18 button.colab-df-convert');\n",
              "      buttonEl.style.display =\n",
              "        google.colab.kernel.accessAllowed ? 'block' : 'none';\n",
              "\n",
              "      async function convertToInteractive(key) {\n",
              "        const element = document.querySelector('#df-747191b3-c8b3-4f3e-8aac-9a9260102d18');\n",
              "        const dataTable =\n",
              "          await google.colab.kernel.invokeFunction('convertToInteractive',\n",
              "                                                    [key], {});\n",
              "        if (!dataTable) return;\n",
              "\n",
              "        const docLinkHtml = 'Like what you see? Visit the ' +\n",
              "          '<a target=\"_blank\" href=https://colab.research.google.com/notebooks/data_table.ipynb>data table notebook</a>'\n",
              "          + ' to learn more about interactive tables.';\n",
              "        element.innerHTML = '';\n",
              "        dataTable['output_type'] = 'display_data';\n",
              "        await google.colab.output.renderOutput(dataTable, element);\n",
              "        const docLink = document.createElement('div');\n",
              "        docLink.innerHTML = docLinkHtml;\n",
              "        element.appendChild(docLink);\n",
              "      }\n",
              "    </script>\n",
              "  </div>\n",
              "\n",
              "\n",
              "<div id=\"df-ef73138e-51eb-4b22-9696-f6667deb661d\">\n",
              "  <button class=\"colab-df-quickchart\" onclick=\"quickchart('df-ef73138e-51eb-4b22-9696-f6667deb661d')\"\n",
              "            title=\"Suggest charts.\"\n",
              "            style=\"display:none;\">\n",
              "\n",
              "<svg xmlns=\"http://www.w3.org/2000/svg\" height=\"24px\"viewBox=\"0 0 24 24\"\n",
              "     width=\"24px\">\n",
              "    <g>\n",
              "        <path d=\"M19 3H5c-1.1 0-2 .9-2 2v14c0 1.1.9 2 2 2h14c1.1 0 2-.9 2-2V5c0-1.1-.9-2-2-2zM9 17H7v-7h2v7zm4 0h-2V7h2v10zm4 0h-2v-4h2v4z\"/>\n",
              "    </g>\n",
              "</svg>\n",
              "  </button>\n",
              "\n",
              "<style>\n",
              "  .colab-df-quickchart {\n",
              "      --bg-color: #E8F0FE;\n",
              "      --fill-color: #1967D2;\n",
              "      --hover-bg-color: #E2EBFA;\n",
              "      --hover-fill-color: #174EA6;\n",
              "      --disabled-fill-color: #AAA;\n",
              "      --disabled-bg-color: #DDD;\n",
              "  }\n",
              "\n",
              "  [theme=dark] .colab-df-quickchart {\n",
              "      --bg-color: #3B4455;\n",
              "      --fill-color: #D2E3FC;\n",
              "      --hover-bg-color: #434B5C;\n",
              "      --hover-fill-color: #FFFFFF;\n",
              "      --disabled-bg-color: #3B4455;\n",
              "      --disabled-fill-color: #666;\n",
              "  }\n",
              "\n",
              "  .colab-df-quickchart {\n",
              "    background-color: var(--bg-color);\n",
              "    border: none;\n",
              "    border-radius: 50%;\n",
              "    cursor: pointer;\n",
              "    display: none;\n",
              "    fill: var(--fill-color);\n",
              "    height: 32px;\n",
              "    padding: 0;\n",
              "    width: 32px;\n",
              "  }\n",
              "\n",
              "  .colab-df-quickchart:hover {\n",
              "    background-color: var(--hover-bg-color);\n",
              "    box-shadow: 0 1px 2px rgba(60, 64, 67, 0.3), 0 1px 3px 1px rgba(60, 64, 67, 0.15);\n",
              "    fill: var(--button-hover-fill-color);\n",
              "  }\n",
              "\n",
              "  .colab-df-quickchart-complete:disabled,\n",
              "  .colab-df-quickchart-complete:disabled:hover {\n",
              "    background-color: var(--disabled-bg-color);\n",
              "    fill: var(--disabled-fill-color);\n",
              "    box-shadow: none;\n",
              "  }\n",
              "\n",
              "  .colab-df-spinner {\n",
              "    border: 2px solid var(--fill-color);\n",
              "    border-color: transparent;\n",
              "    border-bottom-color: var(--fill-color);\n",
              "    animation:\n",
              "      spin 1s steps(1) infinite;\n",
              "  }\n",
              "\n",
              "  @keyframes spin {\n",
              "    0% {\n",
              "      border-color: transparent;\n",
              "      border-bottom-color: var(--fill-color);\n",
              "      border-left-color: var(--fill-color);\n",
              "    }\n",
              "    20% {\n",
              "      border-color: transparent;\n",
              "      border-left-color: var(--fill-color);\n",
              "      border-top-color: var(--fill-color);\n",
              "    }\n",
              "    30% {\n",
              "      border-color: transparent;\n",
              "      border-left-color: var(--fill-color);\n",
              "      border-top-color: var(--fill-color);\n",
              "      border-right-color: var(--fill-color);\n",
              "    }\n",
              "    40% {\n",
              "      border-color: transparent;\n",
              "      border-right-color: var(--fill-color);\n",
              "      border-top-color: var(--fill-color);\n",
              "    }\n",
              "    60% {\n",
              "      border-color: transparent;\n",
              "      border-right-color: var(--fill-color);\n",
              "    }\n",
              "    80% {\n",
              "      border-color: transparent;\n",
              "      border-right-color: var(--fill-color);\n",
              "      border-bottom-color: var(--fill-color);\n",
              "    }\n",
              "    90% {\n",
              "      border-color: transparent;\n",
              "      border-bottom-color: var(--fill-color);\n",
              "    }\n",
              "  }\n",
              "</style>\n",
              "\n",
              "  <script>\n",
              "    async function quickchart(key) {\n",
              "      const quickchartButtonEl =\n",
              "        document.querySelector('#' + key + ' button');\n",
              "      quickchartButtonEl.disabled = true;  // To prevent multiple clicks.\n",
              "      quickchartButtonEl.classList.add('colab-df-spinner');\n",
              "      try {\n",
              "        const charts = await google.colab.kernel.invokeFunction(\n",
              "            'suggestCharts', [key], {});\n",
              "      } catch (error) {\n",
              "        console.error('Error during call to suggestCharts:', error);\n",
              "      }\n",
              "      quickchartButtonEl.classList.remove('colab-df-spinner');\n",
              "      quickchartButtonEl.classList.add('colab-df-quickchart-complete');\n",
              "    }\n",
              "    (() => {\n",
              "      let quickchartButtonEl =\n",
              "        document.querySelector('#df-ef73138e-51eb-4b22-9696-f6667deb661d button');\n",
              "      quickchartButtonEl.style.display =\n",
              "        google.colab.kernel.accessAllowed ? 'block' : 'none';\n",
              "    })();\n",
              "  </script>\n",
              "</div>\n",
              "    </div>\n",
              "  </div>\n"
            ]
          },
          "metadata": {},
          "execution_count": 25
        }
      ],
      "source": [
        "base_dados.head(10)"
      ]
    },
    {
      "cell_type": "code",
      "execution_count": null,
      "metadata": {
        "id": "Yg17ZY0LxHB-"
      },
      "outputs": [],
      "source": [
        "base_dados['texto'] = base_dados['texto'].apply(preprocessamento)"
      ]
    },
    {
      "cell_type": "code",
      "execution_count": null,
      "metadata": {
        "colab": {
          "base_uri": "https://localhost:8080/",
          "height": 363
        },
        "id": "a-Rh0qZQxZ99",
        "outputId": "e9803adc-8647-4de9-e2a2-6af733108cd7"
      },
      "outputs": [
        {
          "output_type": "execute_result",
          "data": {
            "text/plain": [
              "                        texto   emocao\n",
              "0          trabalho agradável  alegria\n",
              "1  gosto ficar em o aconchego  alegria\n",
              "2   fiz adesão a o curso hoje  alegria\n",
              "3                     admirar  alegria\n",
              "4                      adorar  alegria\n",
              "5         adorar cabelo macio  alegria\n",
              "6        adorar cor de o olho  alegria\n",
              "7           somo amável outro  alegria\n",
              "8               sinto afeição  alegria\n",
              "9        querer agradar filho  alegria"
            ],
            "text/html": [
              "\n",
              "  <div id=\"df-e8188467-f7a6-4443-abbb-f06014a5419d\" class=\"colab-df-container\">\n",
              "    <div>\n",
              "<style scoped>\n",
              "    .dataframe tbody tr th:only-of-type {\n",
              "        vertical-align: middle;\n",
              "    }\n",
              "\n",
              "    .dataframe tbody tr th {\n",
              "        vertical-align: top;\n",
              "    }\n",
              "\n",
              "    .dataframe thead th {\n",
              "        text-align: right;\n",
              "    }\n",
              "</style>\n",
              "<table border=\"1\" class=\"dataframe\">\n",
              "  <thead>\n",
              "    <tr style=\"text-align: right;\">\n",
              "      <th></th>\n",
              "      <th>texto</th>\n",
              "      <th>emocao</th>\n",
              "    </tr>\n",
              "  </thead>\n",
              "  <tbody>\n",
              "    <tr>\n",
              "      <th>0</th>\n",
              "      <td>trabalho agradável</td>\n",
              "      <td>alegria</td>\n",
              "    </tr>\n",
              "    <tr>\n",
              "      <th>1</th>\n",
              "      <td>gosto ficar em o aconchego</td>\n",
              "      <td>alegria</td>\n",
              "    </tr>\n",
              "    <tr>\n",
              "      <th>2</th>\n",
              "      <td>fiz adesão a o curso hoje</td>\n",
              "      <td>alegria</td>\n",
              "    </tr>\n",
              "    <tr>\n",
              "      <th>3</th>\n",
              "      <td>admirar</td>\n",
              "      <td>alegria</td>\n",
              "    </tr>\n",
              "    <tr>\n",
              "      <th>4</th>\n",
              "      <td>adorar</td>\n",
              "      <td>alegria</td>\n",
              "    </tr>\n",
              "    <tr>\n",
              "      <th>5</th>\n",
              "      <td>adorar cabelo macio</td>\n",
              "      <td>alegria</td>\n",
              "    </tr>\n",
              "    <tr>\n",
              "      <th>6</th>\n",
              "      <td>adorar cor de o olho</td>\n",
              "      <td>alegria</td>\n",
              "    </tr>\n",
              "    <tr>\n",
              "      <th>7</th>\n",
              "      <td>somo amável outro</td>\n",
              "      <td>alegria</td>\n",
              "    </tr>\n",
              "    <tr>\n",
              "      <th>8</th>\n",
              "      <td>sinto afeição</td>\n",
              "      <td>alegria</td>\n",
              "    </tr>\n",
              "    <tr>\n",
              "      <th>9</th>\n",
              "      <td>querer agradar filho</td>\n",
              "      <td>alegria</td>\n",
              "    </tr>\n",
              "  </tbody>\n",
              "</table>\n",
              "</div>\n",
              "    <div class=\"colab-df-buttons\">\n",
              "\n",
              "  <div class=\"colab-df-container\">\n",
              "    <button class=\"colab-df-convert\" onclick=\"convertToInteractive('df-e8188467-f7a6-4443-abbb-f06014a5419d')\"\n",
              "            title=\"Convert this dataframe to an interactive table.\"\n",
              "            style=\"display:none;\">\n",
              "\n",
              "  <svg xmlns=\"http://www.w3.org/2000/svg\" height=\"24px\" viewBox=\"0 -960 960 960\">\n",
              "    <path d=\"M120-120v-720h720v720H120Zm60-500h600v-160H180v160Zm220 220h160v-160H400v160Zm0 220h160v-160H400v160ZM180-400h160v-160H180v160Zm440 0h160v-160H620v160ZM180-180h160v-160H180v160Zm440 0h160v-160H620v160Z\"/>\n",
              "  </svg>\n",
              "    </button>\n",
              "\n",
              "  <style>\n",
              "    .colab-df-container {\n",
              "      display:flex;\n",
              "      gap: 12px;\n",
              "    }\n",
              "\n",
              "    .colab-df-convert {\n",
              "      background-color: #E8F0FE;\n",
              "      border: none;\n",
              "      border-radius: 50%;\n",
              "      cursor: pointer;\n",
              "      display: none;\n",
              "      fill: #1967D2;\n",
              "      height: 32px;\n",
              "      padding: 0 0 0 0;\n",
              "      width: 32px;\n",
              "    }\n",
              "\n",
              "    .colab-df-convert:hover {\n",
              "      background-color: #E2EBFA;\n",
              "      box-shadow: 0px 1px 2px rgba(60, 64, 67, 0.3), 0px 1px 3px 1px rgba(60, 64, 67, 0.15);\n",
              "      fill: #174EA6;\n",
              "    }\n",
              "\n",
              "    .colab-df-buttons div {\n",
              "      margin-bottom: 4px;\n",
              "    }\n",
              "\n",
              "    [theme=dark] .colab-df-convert {\n",
              "      background-color: #3B4455;\n",
              "      fill: #D2E3FC;\n",
              "    }\n",
              "\n",
              "    [theme=dark] .colab-df-convert:hover {\n",
              "      background-color: #434B5C;\n",
              "      box-shadow: 0px 1px 3px 1px rgba(0, 0, 0, 0.15);\n",
              "      filter: drop-shadow(0px 1px 2px rgba(0, 0, 0, 0.3));\n",
              "      fill: #FFFFFF;\n",
              "    }\n",
              "  </style>\n",
              "\n",
              "    <script>\n",
              "      const buttonEl =\n",
              "        document.querySelector('#df-e8188467-f7a6-4443-abbb-f06014a5419d button.colab-df-convert');\n",
              "      buttonEl.style.display =\n",
              "        google.colab.kernel.accessAllowed ? 'block' : 'none';\n",
              "\n",
              "      async function convertToInteractive(key) {\n",
              "        const element = document.querySelector('#df-e8188467-f7a6-4443-abbb-f06014a5419d');\n",
              "        const dataTable =\n",
              "          await google.colab.kernel.invokeFunction('convertToInteractive',\n",
              "                                                    [key], {});\n",
              "        if (!dataTable) return;\n",
              "\n",
              "        const docLinkHtml = 'Like what you see? Visit the ' +\n",
              "          '<a target=\"_blank\" href=https://colab.research.google.com/notebooks/data_table.ipynb>data table notebook</a>'\n",
              "          + ' to learn more about interactive tables.';\n",
              "        element.innerHTML = '';\n",
              "        dataTable['output_type'] = 'display_data';\n",
              "        await google.colab.output.renderOutput(dataTable, element);\n",
              "        const docLink = document.createElement('div');\n",
              "        docLink.innerHTML = docLinkHtml;\n",
              "        element.appendChild(docLink);\n",
              "      }\n",
              "    </script>\n",
              "  </div>\n",
              "\n",
              "\n",
              "<div id=\"df-81686183-47a7-483c-86ad-9798eb9ad718\">\n",
              "  <button class=\"colab-df-quickchart\" onclick=\"quickchart('df-81686183-47a7-483c-86ad-9798eb9ad718')\"\n",
              "            title=\"Suggest charts.\"\n",
              "            style=\"display:none;\">\n",
              "\n",
              "<svg xmlns=\"http://www.w3.org/2000/svg\" height=\"24px\"viewBox=\"0 0 24 24\"\n",
              "     width=\"24px\">\n",
              "    <g>\n",
              "        <path d=\"M19 3H5c-1.1 0-2 .9-2 2v14c0 1.1.9 2 2 2h14c1.1 0 2-.9 2-2V5c0-1.1-.9-2-2-2zM9 17H7v-7h2v7zm4 0h-2V7h2v10zm4 0h-2v-4h2v4z\"/>\n",
              "    </g>\n",
              "</svg>\n",
              "  </button>\n",
              "\n",
              "<style>\n",
              "  .colab-df-quickchart {\n",
              "      --bg-color: #E8F0FE;\n",
              "      --fill-color: #1967D2;\n",
              "      --hover-bg-color: #E2EBFA;\n",
              "      --hover-fill-color: #174EA6;\n",
              "      --disabled-fill-color: #AAA;\n",
              "      --disabled-bg-color: #DDD;\n",
              "  }\n",
              "\n",
              "  [theme=dark] .colab-df-quickchart {\n",
              "      --bg-color: #3B4455;\n",
              "      --fill-color: #D2E3FC;\n",
              "      --hover-bg-color: #434B5C;\n",
              "      --hover-fill-color: #FFFFFF;\n",
              "      --disabled-bg-color: #3B4455;\n",
              "      --disabled-fill-color: #666;\n",
              "  }\n",
              "\n",
              "  .colab-df-quickchart {\n",
              "    background-color: var(--bg-color);\n",
              "    border: none;\n",
              "    border-radius: 50%;\n",
              "    cursor: pointer;\n",
              "    display: none;\n",
              "    fill: var(--fill-color);\n",
              "    height: 32px;\n",
              "    padding: 0;\n",
              "    width: 32px;\n",
              "  }\n",
              "\n",
              "  .colab-df-quickchart:hover {\n",
              "    background-color: var(--hover-bg-color);\n",
              "    box-shadow: 0 1px 2px rgba(60, 64, 67, 0.3), 0 1px 3px 1px rgba(60, 64, 67, 0.15);\n",
              "    fill: var(--button-hover-fill-color);\n",
              "  }\n",
              "\n",
              "  .colab-df-quickchart-complete:disabled,\n",
              "  .colab-df-quickchart-complete:disabled:hover {\n",
              "    background-color: var(--disabled-bg-color);\n",
              "    fill: var(--disabled-fill-color);\n",
              "    box-shadow: none;\n",
              "  }\n",
              "\n",
              "  .colab-df-spinner {\n",
              "    border: 2px solid var(--fill-color);\n",
              "    border-color: transparent;\n",
              "    border-bottom-color: var(--fill-color);\n",
              "    animation:\n",
              "      spin 1s steps(1) infinite;\n",
              "  }\n",
              "\n",
              "  @keyframes spin {\n",
              "    0% {\n",
              "      border-color: transparent;\n",
              "      border-bottom-color: var(--fill-color);\n",
              "      border-left-color: var(--fill-color);\n",
              "    }\n",
              "    20% {\n",
              "      border-color: transparent;\n",
              "      border-left-color: var(--fill-color);\n",
              "      border-top-color: var(--fill-color);\n",
              "    }\n",
              "    30% {\n",
              "      border-color: transparent;\n",
              "      border-left-color: var(--fill-color);\n",
              "      border-top-color: var(--fill-color);\n",
              "      border-right-color: var(--fill-color);\n",
              "    }\n",
              "    40% {\n",
              "      border-color: transparent;\n",
              "      border-right-color: var(--fill-color);\n",
              "      border-top-color: var(--fill-color);\n",
              "    }\n",
              "    60% {\n",
              "      border-color: transparent;\n",
              "      border-right-color: var(--fill-color);\n",
              "    }\n",
              "    80% {\n",
              "      border-color: transparent;\n",
              "      border-right-color: var(--fill-color);\n",
              "      border-bottom-color: var(--fill-color);\n",
              "    }\n",
              "    90% {\n",
              "      border-color: transparent;\n",
              "      border-bottom-color: var(--fill-color);\n",
              "    }\n",
              "  }\n",
              "</style>\n",
              "\n",
              "  <script>\n",
              "    async function quickchart(key) {\n",
              "      const quickchartButtonEl =\n",
              "        document.querySelector('#' + key + ' button');\n",
              "      quickchartButtonEl.disabled = true;  // To prevent multiple clicks.\n",
              "      quickchartButtonEl.classList.add('colab-df-spinner');\n",
              "      try {\n",
              "        const charts = await google.colab.kernel.invokeFunction(\n",
              "            'suggestCharts', [key], {});\n",
              "      } catch (error) {\n",
              "        console.error('Error during call to suggestCharts:', error);\n",
              "      }\n",
              "      quickchartButtonEl.classList.remove('colab-df-spinner');\n",
              "      quickchartButtonEl.classList.add('colab-df-quickchart-complete');\n",
              "    }\n",
              "    (() => {\n",
              "      let quickchartButtonEl =\n",
              "        document.querySelector('#df-81686183-47a7-483c-86ad-9798eb9ad718 button');\n",
              "      quickchartButtonEl.style.display =\n",
              "        google.colab.kernel.accessAllowed ? 'block' : 'none';\n",
              "    })();\n",
              "  </script>\n",
              "</div>\n",
              "    </div>\n",
              "  </div>\n"
            ]
          },
          "metadata": {},
          "execution_count": 27
        }
      ],
      "source": [
        "base_dados.head(10)"
      ]
    },
    {
      "cell_type": "markdown",
      "metadata": {
        "id": "trA39YO4PcFp"
      },
      "source": [
        "### Tratamento da classe"
      ]
    },
    {
      "cell_type": "code",
      "execution_count": null,
      "metadata": {
        "id": "SPPY0MlIYoTR"
      },
      "outputs": [],
      "source": [
        "exemplo_base_dados = [[\"este trabalho é agradável\", {\"ALEGRIA\": True, \"MEDO\": False}],\n",
        "                      [\"este lugar continua assustador\", {\"ALEGRIA\": False, \"MEDO\": True}]]"
      ]
    },
    {
      "cell_type": "code",
      "execution_count": null,
      "metadata": {
        "colab": {
          "base_uri": "https://localhost:8080/"
        },
        "id": "u_2R-JWKyJ9c",
        "outputId": "23caff94-c41d-44f8-cbe3-ca951105c2da"
      },
      "outputs": [
        {
          "output_type": "execute_result",
          "data": {
            "text/plain": [
              "list"
            ]
          },
          "metadata": {},
          "execution_count": 29
        }
      ],
      "source": [
        "type(exemplo_base_dados)"
      ]
    },
    {
      "cell_type": "code",
      "execution_count": null,
      "metadata": {
        "colab": {
          "base_uri": "https://localhost:8080/"
        },
        "id": "baZHkQZgyVNV",
        "outputId": "0c9ccf23-e37a-4d91-b6b8-90223952939e"
      },
      "outputs": [
        {
          "output_type": "execute_result",
          "data": {
            "text/plain": [
              "['este trabalho é agradável', {'ALEGRIA': True, 'MEDO': False}]"
            ]
          },
          "metadata": {},
          "execution_count": 30
        }
      ],
      "source": [
        "exemplo_base_dados[0]"
      ]
    },
    {
      "cell_type": "code",
      "execution_count": null,
      "metadata": {
        "colab": {
          "base_uri": "https://localhost:8080/",
          "height": 36
        },
        "id": "BXVJt4BHyZsR",
        "outputId": "a9b40ce5-55e4-4f4c-9b72-ca3d6197bcfe"
      },
      "outputs": [
        {
          "output_type": "execute_result",
          "data": {
            "text/plain": [
              "'este trabalho é agradável'"
            ],
            "application/vnd.google.colaboratory.intrinsic+json": {
              "type": "string"
            }
          },
          "metadata": {},
          "execution_count": 31
        }
      ],
      "source": [
        "exemplo_base_dados[0][0]"
      ]
    },
    {
      "cell_type": "code",
      "execution_count": null,
      "metadata": {
        "colab": {
          "base_uri": "https://localhost:8080/"
        },
        "id": "y_xMiJIGydyE",
        "outputId": "30442bfd-01bd-4208-835f-d9da6ff61742"
      },
      "outputs": [
        {
          "output_type": "execute_result",
          "data": {
            "text/plain": [
              "{'ALEGRIA': True, 'MEDO': False}"
            ]
          },
          "metadata": {},
          "execution_count": 32
        }
      ],
      "source": [
        "exemplo_base_dados[0][1]"
      ]
    },
    {
      "cell_type": "code",
      "execution_count": null,
      "metadata": {
        "colab": {
          "base_uri": "https://localhost:8080/"
        },
        "id": "fEWag1Glyg4M",
        "outputId": "c60780aa-0f7e-40d1-85d8-807e9a34f8c4"
      },
      "outputs": [
        {
          "output_type": "execute_result",
          "data": {
            "text/plain": [
              "dict"
            ]
          },
          "metadata": {},
          "execution_count": 33
        }
      ],
      "source": [
        "type(exemplo_base_dados[0][1])"
      ]
    },
    {
      "cell_type": "code",
      "execution_count": null,
      "metadata": {
        "id": "TH31QeqEyrub"
      },
      "outputs": [],
      "source": [
        "base_dados_final = []\n",
        "for texto, emocao in zip(base_dados['texto'], base_dados['emocao']):\n",
        "  #print(texto, emocao)\n",
        "  if emocao == 'alegria':\n",
        "    dic = ({'ALEGRIA': True, 'MEDO': False})\n",
        "  elif emocao == 'medo':\n",
        "    dic = ({'ALEGRIA': False, 'MEDO': True})\n",
        "\n",
        "  base_dados_final.append([texto, dic.copy()])"
      ]
    },
    {
      "cell_type": "code",
      "execution_count": null,
      "metadata": {
        "colab": {
          "base_uri": "https://localhost:8080/"
        },
        "id": "L-uCDjrazfyN",
        "outputId": "c7f9454e-561d-4508-9ea7-716b5d6c2131"
      },
      "outputs": [
        {
          "output_type": "execute_result",
          "data": {
            "text/plain": [
              "196"
            ]
          },
          "metadata": {},
          "execution_count": 35
        }
      ],
      "source": [
        "len(base_dados_final)"
      ]
    },
    {
      "cell_type": "code",
      "execution_count": null,
      "metadata": {
        "colab": {
          "base_uri": "https://localhost:8080/"
        },
        "id": "Nxl28cCezjjS",
        "outputId": "f1beec43-491d-4ab1-9e86-65f7a7ea92b0"
      },
      "outputs": [
        {
          "output_type": "execute_result",
          "data": {
            "text/plain": [
              "['trabalho agradável', {'ALEGRIA': True, 'MEDO': False}]"
            ]
          },
          "metadata": {},
          "execution_count": 36
        }
      ],
      "source": [
        "base_dados_final[0]"
      ]
    },
    {
      "cell_type": "code",
      "execution_count": null,
      "metadata": {
        "colab": {
          "base_uri": "https://localhost:8080/",
          "height": 36
        },
        "id": "LR_UPCX5zodw",
        "outputId": "15f1c5bb-2ba1-4c1e-f4d1-f9efc9d92e9e"
      },
      "outputs": [
        {
          "output_type": "execute_result",
          "data": {
            "text/plain": [
              "'trabalho agradável'"
            ],
            "application/vnd.google.colaboratory.intrinsic+json": {
              "type": "string"
            }
          },
          "metadata": {},
          "execution_count": 37
        }
      ],
      "source": [
        "base_dados_final[0][0]"
      ]
    },
    {
      "cell_type": "code",
      "execution_count": null,
      "metadata": {
        "colab": {
          "base_uri": "https://localhost:8080/"
        },
        "id": "-0M3jriRzrho",
        "outputId": "049b17bb-0551-430c-8b27-604a3c6aa93e"
      },
      "outputs": [
        {
          "output_type": "execute_result",
          "data": {
            "text/plain": [
              "{'ALEGRIA': True, 'MEDO': False}"
            ]
          },
          "metadata": {},
          "execution_count": 38
        }
      ],
      "source": [
        "base_dados_final[0][1]"
      ]
    },
    {
      "cell_type": "code",
      "execution_count": null,
      "metadata": {
        "colab": {
          "base_uri": "https://localhost:8080/"
        },
        "id": "RcO2rX_Nzue-",
        "outputId": "06a2937f-9a78-42b9-ab80-3ab2b78700cb"
      },
      "outputs": [
        {
          "output_type": "execute_result",
          "data": {
            "text/plain": [
              "dict"
            ]
          },
          "metadata": {},
          "execution_count": 39
        }
      ],
      "source": [
        "type(base_dados_final[0][1])"
      ]
    },
    {
      "cell_type": "code",
      "execution_count": null,
      "metadata": {
        "colab": {
          "base_uri": "https://localhost:8080/"
        },
        "id": "VoF9RsEFzySQ",
        "outputId": "5c96e158-2732-448f-fa71-92c89aa7d84d"
      },
      "outputs": [
        {
          "output_type": "execute_result",
          "data": {
            "text/plain": [
              "[['trabalho agradável', {'ALEGRIA': True, 'MEDO': False}],\n",
              " ['gosto ficar em o aconchego', {'ALEGRIA': True, 'MEDO': False}],\n",
              " ['fiz adesão a o curso hoje', {'ALEGRIA': True, 'MEDO': False}],\n",
              " ['admirar', {'ALEGRIA': True, 'MEDO': False}],\n",
              " ['adorar', {'ALEGRIA': True, 'MEDO': False}],\n",
              " ['adorar cabelo macio', {'ALEGRIA': True, 'MEDO': False}],\n",
              " ['adorar cor de o olho', {'ALEGRIA': True, 'MEDO': False}],\n",
              " ['somo amável outro', {'ALEGRIA': True, 'MEDO': False}],\n",
              " ['sinto afeição', {'ALEGRIA': True, 'MEDO': False}],\n",
              " ['querer agradar filho', {'ALEGRIA': True, 'MEDO': False}],\n",
              " ['sinto completamente amar', {'ALEGRIA': True, 'MEDO': False}],\n",
              " ['amo', {'ALEGRIA': True, 'MEDO': False}],\n",
              " ['alívio', {'ALEGRIA': True, 'MEDO': False}],\n",
              " ['dor amenizar finalmente', {'ALEGRIA': True, 'MEDO': False}],\n",
              " ['achar apaixoneir', {'ALEGRIA': True, 'MEDO': False}],\n",
              " ['amar maravilhoso', {'ALEGRIA': True, 'MEDO': False}],\n",
              " ['sentir animar', {'ALEGRIA': True, 'MEDO': False}],\n",
              " ['sintar hoje', {'ALEGRIA': True, 'MEDO': False}],\n",
              " ['luar belo', {'ALEGRIA': True, 'MEDO': False}],\n",
              " ['dia bonito', {'ALEGRIA': True, 'MEDO': False}],\n",
              " ['afortunar', {'ALEGRIA': True, 'MEDO': False}],\n",
              " ['maravilha de o mundo', {'ALEGRIA': True, 'MEDO': False}],\n",
              " ['recebir carinho hoje de o colega', {'ALEGRIA': True, 'MEDO': False}],\n",
              " ['sentir reconfortar hoje', {'ALEGRIA': True, 'MEDO': False}],\n",
              " ['amigo', {'ALEGRIA': True, 'MEDO': False}],\n",
              " ['contente resultado de o teste', {'ALEGRIA': True, 'MEDO': False}],\n",
              " ['pintura brilhante', {'ALEGRIA': True, 'MEDO': False}],\n",
              " ['água abundância', {'ALEGRIA': True, 'MEDO': False}],\n",
              " ['roupa delicado', {'ALEGRIA': True, 'MEDO': False}],\n",
              " ['comediante', {'ALEGRIA': True, 'MEDO': False}],\n",
              " ['bondade vir', {'ALEGRIA': True, 'MEDO': False}],\n",
              " ['amor lir', {'ALEGRIA': True, 'MEDO': False}],\n",
              " ['amizade durar', {'ALEGRIA': True, 'MEDO': False}],\n",
              " ['eufórico notícia', {'ALEGRIA': True, 'MEDO': False}],\n",
              " ['realmente fiel', {'ALEGRIA': True, 'MEDO': False}],\n",
              " ['festa comemorar aniversário', {'ALEGRIA': True, 'MEDO': False}],\n",
              " ['graças deus enxerguei certo', {'ALEGRIA': True, 'MEDO': False}],\n",
              " ['escolha', {'ALEGRIA': True, 'MEDO': False}],\n",
              " ['incrível belo', {'ALEGRIA': True, 'MEDO': False}],\n",
              " ['engraçado explicar', {'ALEGRIA': True, 'MEDO': False}],\n",
              " ['emocionante em este', {'ALEGRIA': True, 'MEDO': False}],\n",
              " ['cativar por o olhar', {'ALEGRIA': True, 'MEDO': False}],\n",
              " ['loucamente apaixonar', {'ALEGRIA': True, 'MEDO': False}],\n",
              " ['dúvida', {'ALEGRIA': True, 'MEDO': False}],\n",
              " ['rodear por o abraço', {'ALEGRIA': True, 'MEDO': False}],\n",
              " ['vejo estrela por o', {'ALEGRIA': True, 'MEDO': False}],\n",
              " ['sintar sol', {'ALEGRIA': True, 'MEDO': False}],\n",
              " ['sorrir orelha orelha', {'ALEGRIA': True, 'MEDO': False}],\n",
              " ['valer pena', {'ALEGRIA': True, 'MEDO': False}],\n",
              " ['finalmente colocar amor', {'ALEGRIA': True, 'MEDO': False}],\n",
              " ['dançar noite adentro', {'ALEGRIA': True, 'MEDO': False}],\n",
              " ['amor brilhante', {'ALEGRIA': True, 'MEDO': False}],\n",
              " ['toquei coração durante', {'ALEGRIA': True, 'MEDO': False}],\n",
              " ['amiga companheiro', {'ALEGRIA': True, 'MEDO': False}],\n",
              " ['trazer volta vida', {'ALEGRIA': True, 'MEDO': False}],\n",
              " ['sonho doce', {'ALEGRIA': True, 'MEDO': False}],\n",
              " ['adorar doce fruta', {'ALEGRIA': True, 'MEDO': False}],\n",
              " ['suco favorito', {'ALEGRIA': True, 'MEDO': False}],\n",
              " ['agradecido por o ajuda', {'ALEGRIA': True, 'MEDO': False}],\n",
              " ['enorme prazer equipe', {'ALEGRIA': True, 'MEDO': False}],\n",
              " ['trabalhar equipe', {'ALEGRIA': True, 'MEDO': False}],\n",
              " ['sinto flutuar em o ar', {'ALEGRIA': True, 'MEDO': False}],\n",
              " ['brisa agradável hoje', {'ALEGRIA': True, 'MEDO': False}],\n",
              " ['compatível', {'ALEGRIA': True, 'MEDO': False}],\n",
              " ['compatível outro', {'ALEGRIA': True, 'MEDO': False}],\n",
              " ['órgão compatível paciente', {'ALEGRIA': True, 'MEDO': False}],\n",
              " ['contente aceitar em o faculdade', {'ALEGRIA': True, 'MEDO': False}],\n",
              " ['aprovar em o exame', {'ALEGRIA': True, 'MEDO': False}],\n",
              " ['beneficiar por o empresa', {'ALEGRIA': True, 'MEDO': False}],\n",
              " ['cativante', {'ALEGRIA': True, 'MEDO': False}],\n",
              " ['contente', {'ALEGRIA': True, 'MEDO': False}],\n",
              " ['confortável', {'ALEGRIA': True, 'MEDO': False}],\n",
              " ['quente em este frio', {'ALEGRIA': True, 'MEDO': False}],\n",
              " ['elogio', {'ALEGRIA': True, 'MEDO': False}],\n",
              " ['chamar comemorar', {'ALEGRIA': True, 'MEDO': False}],\n",
              " ['desejável presença apresentação', {'ALEGRIA': True, 'MEDO': False}],\n",
              " ['gratar', {'ALEGRIA': True, 'MEDO': False}],\n",
              " ['dedico em aquilo', {'ALEGRIA': True, 'MEDO': False}],\n",
              " ['completamente apaixonar', {'ALEGRIA': True, 'MEDO': False}],\n",
              " ['agitar noite', {'ALEGRIA': True, 'MEDO': False}],\n",
              " ['significar', {'ALEGRIA': True, 'MEDO': False}],\n",
              " ['agir preconceito julgamento', {'ALEGRIA': True, 'MEDO': False}],\n",
              " ['finalmente completar coleção maravilhoso',\n",
              "  {'ALEGRIA': True, 'MEDO': False}],\n",
              " ['rainha', {'ALEGRIA': True, 'MEDO': False}],\n",
              " ['satisfatoriamente anunciar vencedor de o jogo',\n",
              "  {'ALEGRIA': True, 'MEDO': False}],\n",
              " ['atrair facilmente', {'ALEGRIA': True, 'MEDO': False}],\n",
              " ['rapaz extremamente atraente', {'ALEGRIA': True, 'MEDO': False}],\n",
              " ['sinto-me viver', {'ALEGRIA': True, 'MEDO': False}],\n",
              " ['sinto-me paz', {'ALEGRIA': True, 'MEDO': False}],\n",
              " ['lucro', {'ALEGRIA': True, 'MEDO': False}],\n",
              " ['ordem', {'ALEGRIA': True, 'MEDO': False}],\n",
              " ['arrumar emprego junto', {'ALEGRIA': True, 'MEDO': False}],\n",
              " ['arrumação terminada alívio', {'ALEGRIA': True, 'MEDO': False}],\n",
              " ['câncer benigno', {'ALEGRIA': True, 'MEDO': False}],\n",
              " ['amor abundante', {'ALEGRIA': True, 'MEDO': False}],\n",
              " ['caridoso natal', {'ALEGRIA': True, 'MEDO': False}],\n",
              " ['charme atrair', {'ALEGRIA': True, 'MEDO': False}],\n",
              " ['charmoso querer', {'ALEGRIA': True, 'MEDO': False}],\n",
              " ['querida por o amigo', {'ALEGRIA': True, 'MEDO': False}],\n",
              " ['cuidadoso sentimento', {'ALEGRIA': True, 'MEDO': False}],\n",
              " ['comovido tamanho caridade', {'ALEGRIA': True, 'MEDO': False}],\n",
              " ['chá quente reconfortante', {'ALEGRIA': True, 'MEDO': False}],\n",
              " ['alegr', {'ALEGRIA': True, 'MEDO': False}],\n",
              " ['aplaudir vencedor', {'ALEGRIA': True, 'MEDO': False}],\n",
              " ['palma aniversariante', {'ALEGRIA': True, 'MEDO': False}],\n",
              " ['desejo', {'ALEGRIA': True, 'MEDO': False}],\n",
              " ['hora apreciar vinho', {'ALEGRIA': True, 'MEDO': False}],\n",
              " ['apreciar presença escola', {'ALEGRIA': True, 'MEDO': False}],\n",
              " ['anseio trabalho', {'ALEGRIA': True, 'MEDO': False}],\n",
              " ['maravilhoso jogo amistoso', {'ALEGRIA': True, 'MEDO': False}],\n",
              " ['menimo apaziguar', {'ALEGRIA': True, 'MEDO': False}],\n",
              " ['concretizar finalmente sonho', {'ALEGRIA': True, 'MEDO': False}],\n",
              " ['imploror matem', {'ALEGRIA': False, 'MEDO': True}],\n",
              " ['perigoso', {'ALEGRIA': False, 'MEDO': True}],\n",
              " ['seguro', {'ALEGRIA': False, 'MEDO': True}],\n",
              " ['correr pra', {'ALEGRIA': False, 'MEDO': True}],\n",
              " ['socorro querer roubar doce', {'ALEGRIA': False, 'MEDO': True}],\n",
              " ['cara perseguir', {'ALEGRIA': False, 'MEDO': True}],\n",
              " ['entro perigoso', {'ALEGRIA': False, 'MEDO': True}],\n",
              " ['continuar assustador', {'ALEGRIA': False, 'MEDO': True}],\n",
              " ['em o selva animal perigoso', {'ALEGRIA': False, 'MEDO': True}],\n",
              " ['avancer cautela', {'ALEGRIA': False, 'MEDO': True}],\n",
              " ['silencioso cuidado', {'ALEGRIA': False, 'MEDO': True}],\n",
              " ['deixe-me viver', {'ALEGRIA': False, 'MEDO': True}],\n",
              " ['ficar mesada tirar nota', {'ALEGRIA': False, 'MEDO': True}],\n",
              " ['parecer olho em o vigiar', {'ALEGRIA': False, 'MEDO': True}],\n",
              " ['temo sentença de o juiz negativo', {'ALEGRIA': False, 'MEDO': True}],\n",
              " ['missão arriscar', {'ALEGRIA': False, 'MEDO': True}],\n",
              " ['salvem se puder', {'ALEGRIA': False, 'MEDO': True}],\n",
              " ['plano descobrir', {'ALEGRIA': False, 'MEDO': True}],\n",
              " ['culpa juro', {'ALEGRIA': False, 'MEDO': True}],\n",
              " ['tomar cuidado lobisomem', {'ALEGRIA': False, 'MEDO': True}],\n",
              " ['achar descobrir verdade', {'ALEGRIA': False, 'MEDO': True}],\n",
              " ['Deus desaparecer', {'ALEGRIA': False, 'MEDO': True}],\n",
              " ['tomaro vejam de aqui', {'ALEGRIA': False, 'MEDO': True}],\n",
              " ['manter segredo descobrir estaremo ferrado',\n",
              "  {'ALEGRIA': False, 'MEDO': True}],\n",
              " ['soltar inocente', {'ALEGRIA': False, 'MEDO': True}],\n",
              " ['ouvir passo', {'ALEGRIA': False, 'MEDO': True}],\n",
              " ['pedir socorro', {'ALEGRIA': False, 'MEDO': True}],\n",
              " ['cuidado curva em o estrada', {'ALEGRIA': False, 'MEDO': True}],\n",
              " ['parecer perigoso', {'ALEGRIA': False, 'MEDO': True}],\n",
              " ['tremer medo', {'ALEGRIA': False, 'MEDO': True}],\n",
              " ['socorro cair', {'ALEGRIA': False, 'MEDO': True}],\n",
              " ['floresta negro perigoso', {'ALEGRIA': False, 'MEDO': True}],\n",
              " ['ouço passo em o direção', {'ALEGRIA': False, 'MEDO': True}],\n",
              " ['achar arriscado', {'ALEGRIA': False, 'MEDO': True}],\n",
              " ['voltar perigoso', {'ALEGRIA': False, 'MEDO': True}],\n",
              " ['fuja acabaremo morto', {'ALEGRIA': False, 'MEDO': True}],\n",
              " ['receiar livrar de este situação', {'ALEGRIA': False, 'MEDO': True}],\n",
              " ['socorro armado', {'ALEGRIA': False, 'MEDO': True}],\n",
              " ['ei cuidado bater em o poste', {'ALEGRIA': False, 'MEDO': True}],\n",
              " ['socorro afundar', {'ALEGRIA': False, 'MEDO': True}],\n",
              " ['sério cuidado arma', {'ALEGRIA': False, 'MEDO': True}],\n",
              " ['tubarão atacar', {'ALEGRIA': False, 'MEDO': True}],\n",
              " ['sinto arrepio fico sozinho em o escuro', {'ALEGRIA': False, 'MEDO': True}],\n",
              " ['calmo dinheiro', {'ALEGRIA': False, 'MEDO': True}],\n",
              " ['achar enganar', {'ALEGRIA': False, 'MEDO': True}],\n",
              " ['ligeiro fugir depressa', {'ALEGRIA': False, 'MEDO': True}],\n",
              " ['crocodilo selvagem vir', {'ALEGRIA': False, 'MEDO': True}],\n",
              " ['ficarmos achar', {'ALEGRIA': False, 'MEDO': True}],\n",
              " ['fuja tigre parecer faminto', {'ALEGRIA': False, 'MEDO': True}],\n",
              " ['saída preciso milagre', {'ALEGRIA': False, 'MEDO': True}],\n",
              " ['tirar socorro', {'ALEGRIA': False, 'MEDO': True}],\n",
              " ['nadar afogar', {'ALEGRIA': False, 'MEDO': True}],\n",
              " ['certezar seguro', {'ALEGRIA': False, 'MEDO': True}],\n",
              " ['apanhar pai boletim', {'ALEGRIA': False, 'MEDO': True}],\n",
              " ['consigo sair de aqui', {'ALEGRIA': False, 'MEDO': True}],\n",
              " ['sair assaltar', {'ALEGRIA': False, 'MEDO': True}],\n",
              " ['deixar', {'ALEGRIA': False, 'MEDO': True}],\n",
              " ['esperar largar sozinho', {'ALEGRIA': False, 'MEDO': True}],\n",
              " ['temo por o segurança', {'ALEGRIA': False, 'MEDO': True}],\n",
              " ['entregar dinheiro mate', {'ALEGRIA': False, 'MEDO': True}],\n",
              " ['levar dinheiro', {'ALEGRIA': False, 'MEDO': True}],\n",
              " ['dirijar rápido', {'ALEGRIA': False, 'MEDO': True}],\n",
              " ['descobrir prender', {'ALEGRIA': False, 'MEDO': True}],\n",
              " ['esperar façam nenhum', {'ALEGRIA': False, 'MEDO': True}],\n",
              " ['afogar ajudar sair de o água', {'ALEGRIA': False, 'MEDO': True}],\n",
              " ['estarer salvo', {'ALEGRIA': False, 'MEDO': True}],\n",
              " ['querer pensar em o acontecer', {'ALEGRIA': False, 'MEDO': True}],\n",
              " ['em esse cidade desgraça de o outro', {'ALEGRIA': False, 'MEDO': True}],\n",
              " ['alguém ligar assustado', {'ALEGRIA': False, 'MEDO': True}],\n",
              " ['remediar matar', {'ALEGRIA': False, 'MEDO': True}],\n",
              " ['confior em ele cautela', {'ALEGRIA': False, 'MEDO': True}],\n",
              " ['cautela', {'ALEGRIA': False, 'MEDO': True}],\n",
              " ['descobrir Deus', {'ALEGRIA': False, 'MEDO': True}],\n",
              " ['receiar', {'ALEGRIA': False, 'MEDO': True}],\n",
              " ['noite perigoso', {'ALEGRIA': False, 'MEDO': True}],\n",
              " ['estremecer casa', {'ALEGRIA': False, 'MEDO': True}],\n",
              " ['olhar criatura mover monstruosamente', {'ALEGRIA': False, 'MEDO': True}],\n",
              " ['aguentar suspense', {'ALEGRIA': False, 'MEDO': True}],\n",
              " ['afugente cão', {'ALEGRIA': False, 'MEDO': True}],\n",
              " ['chocado amedrontar assassinato brutal', {'ALEGRIA': False, 'MEDO': True}],\n",
              " ['preciso afugentar ímpeto medo de o inferno',\n",
              "  {'ALEGRIA': False, 'MEDO': True}],\n",
              " ['político força afugentar amedrontar', {'ALEGRIA': False, 'MEDO': True}],\n",
              " ['objetivo de isso amedrontar', {'ALEGRIA': False, 'MEDO': True}],\n",
              " ['apavorar', {'ALEGRIA': False, 'MEDO': True}]]"
            ]
          },
          "metadata": {},
          "execution_count": 40
        }
      ],
      "source": [
        "base_dados_final"
      ]
    },
    {
      "cell_type": "markdown",
      "metadata": {
        "id": "5mc19ZByUNsu"
      },
      "source": [
        "# Etapa 5: Criação do classificador"
      ]
    },
    {
      "cell_type": "code",
      "source": [
        "from spacy.training import Example"
      ],
      "metadata": {
        "id": "0LaRQjJFlxP3"
      },
      "execution_count": null,
      "outputs": []
    },
    {
      "cell_type": "code",
      "execution_count": null,
      "metadata": {
        "id": "YnZ1orji7Iv8"
      },
      "outputs": [],
      "source": [
        "modelo = spacy.blank('pt')\n",
        "textcat = modelo.add_pipe(\"textcat\")\n",
        "textcat.add_label(\"ALEGRIA\")\n",
        "textcat.add_label(\"MEDO\")\n",
        "historico = []"
      ]
    },
    {
      "cell_type": "code",
      "execution_count": null,
      "metadata": {
        "colab": {
          "base_uri": "https://localhost:8080/"
        },
        "id": "3jlGvLEz764Y",
        "outputId": "202bf795-ace2-40b1-f1e1-4fdeca8f0dc8"
      },
      "outputs": [
        {
          "output_type": "stream",
          "name": "stdout",
          "text": [
            "{'textcat': 1.7140571177005768}\n",
            "{'textcat': 3.780877195526389e-11}\n",
            "{'textcat': 3.8416779252117145e-12}\n",
            "{'textcat': 9.826637930015342e-13}\n",
            "{'textcat': 3.516130495215177e-13}\n",
            "{'textcat': 1.3395584148217024e-13}\n",
            "{'textcat': 6.55975060647471e-14}\n",
            "{'textcat': 3.4975037536611104e-14}\n",
            "{'textcat': 1.714510506410329e-14}\n",
            "{'textcat': 8.410327405564962e-15}\n"
          ]
        }
      ],
      "source": [
        "modelo.begin_training()\n",
        "for epoca in range(1000):\n",
        "  random.shuffle(base_dados_final)\n",
        "  losses = {}\n",
        "  for batch in spacy.util.minibatch(base_dados_final, 30):\n",
        "    textos = [modelo(texto) for texto, entities in batch]\n",
        "    annotations = [{'cats': entities} for texto, entities in batch]\n",
        "    examples = [Example.from_dict(doc, annotation) for doc, annotation in zip(\n",
        "            textos, annotations\n",
        "        )]\n",
        "    modelo.update(examples, losses=losses)\n",
        "  if epoca % 100 == 0:\n",
        "    print(losses)\n",
        "    historico.append(losses)"
      ]
    },
    {
      "cell_type": "code",
      "execution_count": null,
      "metadata": {
        "id": "wSe-tDsCAciN"
      },
      "outputs": [],
      "source": [
        "historico_loss = []\n",
        "for i in historico:\n",
        "  historico_loss.append(i.get('textcat'))"
      ]
    },
    {
      "cell_type": "code",
      "execution_count": null,
      "metadata": {
        "colab": {
          "base_uri": "https://localhost:8080/"
        },
        "id": "ShJhtbYtAr50",
        "outputId": "70498610-fbf5-4012-c0f4-f34143c59e07"
      },
      "outputs": [
        {
          "output_type": "execute_result",
          "data": {
            "text/plain": [
              "array([1.71405712e+00, 3.78087720e-11, 3.84167793e-12, 9.82663793e-13,\n",
              "       3.51613050e-13, 1.33955841e-13, 6.55975061e-14, 3.49750375e-14,\n",
              "       1.71451051e-14, 8.41032741e-15])"
            ]
          },
          "metadata": {},
          "execution_count": 46
        }
      ],
      "source": [
        "historico_loss = np.array(historico_loss)\n",
        "historico_loss"
      ]
    },
    {
      "cell_type": "code",
      "execution_count": null,
      "metadata": {
        "colab": {
          "base_uri": "https://localhost:8080/",
          "height": 492
        },
        "id": "6lEL-QoBA0KI",
        "outputId": "1d1d7c16-c0ab-4a68-e09e-e7bccaa863db"
      },
      "outputs": [
        {
          "output_type": "execute_result",
          "data": {
            "text/plain": [
              "Text(0, 0.5, 'Erro')"
            ]
          },
          "metadata": {},
          "execution_count": 47
        },
        {
          "output_type": "display_data",
          "data": {
            "text/plain": [
              "<Figure size 640x480 with 1 Axes>"
            ],
            "image/png": "[encoded data removed]"
          },
          "metadata": {}
        }
      ],
      "source": [
        "import matplotlib.pyplot as plt\n",
        "plt.plot(historico_loss)\n",
        "plt.title('Progressão do erro')\n",
        "plt.xlabel('Épocas')\n",
        "plt.ylabel('Erro')"
      ]
    },
    {
      "cell_type": "code",
      "execution_count": null,
      "metadata": {
        "id": "amNE8xy_BPSF"
      },
      "outputs": [],
      "source": [
        "modelo.to_disk(\"modelo\")"
      ]
    },
    {
      "cell_type": "markdown",
      "metadata": {
        "id": "ePMk8G0Dl6wg"
      },
      "source": [
        "# Etapa 6: Testes com uma frase"
      ]
    },
    {
      "cell_type": "code",
      "execution_count": null,
      "metadata": {
        "colab": {
          "base_uri": "https://localhost:8080/"
        },
        "id": "u9e-TlWNCFj8",
        "outputId": "752e4870-4358-49ba-8237-794f4b28d189"
      },
      "outputs": [
        {
          "output_type": "execute_result",
          "data": {
            "text/plain": [
              "<spacy.lang.pt.Portuguese at 0x79645759a650>"
            ]
          },
          "metadata": {},
          "execution_count": 49
        }
      ],
      "source": [
        "modelo_carregado = spacy.load(\"modelo\")\n",
        "modelo_carregado"
      ]
    },
    {
      "cell_type": "code",
      "execution_count": null,
      "metadata": {
        "id": "vccrJddkCThv"
      },
      "outputs": [],
      "source": [
        "texto_positivo = 'eu adoro cor dos seus olhos'"
      ]
    },
    {
      "cell_type": "code",
      "execution_count": null,
      "metadata": {
        "colab": {
          "base_uri": "https://localhost:8080/",
          "height": 36
        },
        "id": "AHUy4H_ECZyN",
        "outputId": "15e05639-f25a-4e9f-d004-c91ec0fe9423"
      },
      "outputs": [
        {
          "output_type": "execute_result",
          "data": {
            "text/plain": [
              "'adorar cor de o olho'"
            ],
            "application/vnd.google.colaboratory.intrinsic+json": {
              "type": "string"
            }
          },
          "metadata": {},
          "execution_count": 51
        }
      ],
      "source": [
        "texto_positivo = preprocessamento(texto_positivo)\n",
        "texto_positivo"
      ]
    },
    {
      "cell_type": "code",
      "execution_count": null,
      "metadata": {
        "colab": {
          "base_uri": "https://localhost:8080/"
        },
        "id": "B4iJh7D5Cjha",
        "outputId": "33405837-e685-49c9-d6cb-0c8578bd6db9"
      },
      "outputs": [
        {
          "output_type": "execute_result",
          "data": {
            "text/plain": [
              "adorar cor de o olho"
            ]
          },
          "metadata": {},
          "execution_count": 52
        }
      ],
      "source": [
        "previsao = modelo_carregado(texto_positivo)\n",
        "previsao"
      ]
    },
    {
      "cell_type": "code",
      "execution_count": null,
      "metadata": {
        "colab": {
          "base_uri": "https://localhost:8080/"
        },
        "id": "wEvTU1fGCoX0",
        "outputId": "3022e442-293d-4d32-d3f9-b432b3ef35ff"
      },
      "outputs": [
        {
          "output_type": "execute_result",
          "data": {
            "text/plain": [
              "{'ALEGRIA': 1.0, 'MEDO': 2.8941526508674542e-08}"
            ]
          },
          "metadata": {},
          "execution_count": 53
        }
      ],
      "source": [
        "previsao.cats"
      ]
    },
    {
      "cell_type": "code",
      "execution_count": null,
      "metadata": {
        "colab": {
          "base_uri": "https://localhost:8080/"
        },
        "id": "jr2eRXXJCxWe",
        "outputId": "66f372a6-efa3-47ba-865a-92a27a1db622"
      },
      "outputs": [
        {
          "output_type": "execute_result",
          "data": {
            "text/plain": [
              "{'ALEGRIA': 6.939003327488535e-08, 'MEDO': 0.9999998807907104}"
            ]
          },
          "metadata": {},
          "execution_count": 54
        }
      ],
      "source": [
        "texto_negativo = 'estou com medo dele'\n",
        "previsao = modelo_carregado(preprocessamento(texto_negativo))\n",
        "previsao.cats"
      ]
    },
    {
      "cell_type": "markdown",
      "metadata": {
        "id": "KhF2vtEsnlpM"
      },
      "source": [
        "# Etapa 7: Avaliação do modelo"
      ]
    },
    {
      "cell_type": "markdown",
      "metadata": {
        "id": "sJzwpVWNACFi"
      },
      "source": [
        "## Avaliação na base de treinamento\n"
      ]
    },
    {
      "cell_type": "code",
      "execution_count": null,
      "metadata": {
        "id": "6NoTHRADDZ0Z"
      },
      "outputs": [],
      "source": [
        "previsoes = []\n",
        "for texto in base_dados['texto']:\n",
        "  #print(texto)\n",
        "  previsao = modelo_carregado(texto)\n",
        "  previsoes.append(previsao.cats)"
      ]
    },
    {
      "cell_type": "code",
      "execution_count": null,
      "metadata": {
        "colab": {
          "base_uri": "https://localhost:8080/"
        },
        "id": "8lRO94OuDvLZ",
        "outputId": "46773f95-d2cd-4c3c-9c07-1b8d6387fd68"
      },
      "outputs": [
        {
          "output_type": "execute_result",
          "data": {
            "text/plain": [
              "[{'ALEGRIA': 1.0, 'MEDO': 5.421556981133335e-09},\n",
              " {'ALEGRIA': 1.0, 'MEDO': 4.748789450559343e-08},\n",
              " {'ALEGRIA': 1.0, 'MEDO': 2.239872820553046e-08},\n",
              " {'ALEGRIA': 1.0, 'MEDO': 1.584873032811629e-08},\n",
              " {'ALEGRIA': 1.0, 'MEDO': 2.169840307431059e-09},\n",
              " {'ALEGRIA': 1.0, 'MEDO': 1.108402969407507e-08},\n",
              " {'ALEGRIA': 1.0, 'MEDO': 2.8941526508674542e-08},\n",
              " {'ALEGRIA': 1.0, 'MEDO': 2.9631923581519004e-08},\n",
              " {'ALEGRIA': 1.0, 'MEDO': 1.3365557549605e-08},\n",
              " {'ALEGRIA': 1.0, 'MEDO': 3.716768404160575e-08},\n",
              " {'ALEGRIA': 1.0, 'MEDO': 6.833441812403862e-09},\n",
              " {'ALEGRIA': 1.0, 'MEDO': 2.331917592357513e-08},\n",
              " {'ALEGRIA': 1.0, 'MEDO': 2.7940596503128745e-09},\n",
              " {'ALEGRIA': 1.0, 'MEDO': 1.2214452560499467e-08},\n",
              " {'ALEGRIA': 1.0, 'MEDO': 5.0063160728086586e-08},\n",
              " {'ALEGRIA': 1.0, 'MEDO': 2.1944810413287996e-08},\n",
              " {'ALEGRIA': 1.0, 'MEDO': 1.0412403383952551e-08},\n",
              " {'ALEGRIA': 1.0, 'MEDO': 1.1441590785921107e-08},\n",
              " {'ALEGRIA': 1.0, 'MEDO': 1.550207251455049e-08},\n",
              " {'ALEGRIA': 1.0, 'MEDO': 1.1742805838821369e-08},\n",
              " {'ALEGRIA': 1.0, 'MEDO': 8.099356740842723e-09},\n",
              " {'ALEGRIA': 1.0, 'MEDO': 5.69928566562794e-08},\n",
              " {'ALEGRIA': 1.0, 'MEDO': 4.353140070634254e-08},\n",
              " {'ALEGRIA': 1.0, 'MEDO': 8.861534617210509e-09},\n",
              " {'ALEGRIA': 1.0, 'MEDO': 1.7135027619019638e-08},\n",
              " {'ALEGRIA': 1.0, 'MEDO': 2.7475968167323117e-08},\n",
              " {'ALEGRIA': 1.0, 'MEDO': 4.810036813296392e-09},\n",
              " {'ALEGRIA': 1.0, 'MEDO': 1.9900499026448415e-08},\n",
              " {'ALEGRIA': 1.0, 'MEDO': 5.07189348297743e-08},\n",
              " {'ALEGRIA': 1.0, 'MEDO': 1.6266993085878312e-08},\n",
              " {'ALEGRIA': 1.0, 'MEDO': 1.595570786605549e-08},\n",
              " {'ALEGRIA': 1.0, 'MEDO': 1.3908853624400308e-08},\n",
              " {'ALEGRIA': 1.0, 'MEDO': 2.1719944953701997e-08},\n",
              " {'ALEGRIA': 1.0, 'MEDO': 2.509103325110118e-08},\n",
              " {'ALEGRIA': 1.0, 'MEDO': 1.0179972420587546e-08},\n",
              " {'ALEGRIA': 1.0, 'MEDO': 1.3260434528206133e-08},\n",
              " {'ALEGRIA': 1.0, 'MEDO': 3.4165449136480674e-08},\n",
              " {'ALEGRIA': 1.0, 'MEDO': 4.3878596756030674e-08},\n",
              " {'ALEGRIA': 1.0, 'MEDO': 7.465762230651762e-09},\n",
              " {'ALEGRIA': 1.0, 'MEDO': 3.660980851805107e-08},\n",
              " {'ALEGRIA': 1.0, 'MEDO': 3.536162651585073e-08},\n",
              " {'ALEGRIA': 1.0, 'MEDO': 4.3923055415007184e-08},\n",
              " {'ALEGRIA': 1.0, 'MEDO': 1.913914360329727e-08},\n",
              " {'ALEGRIA': 1.0, 'MEDO': 1.629773827005465e-08},\n",
              " {'ALEGRIA': 1.0, 'MEDO': 3.727260633468177e-08},\n",
              " {'ALEGRIA': 1.0, 'MEDO': 3.560520767109665e-08},\n",
              " {'ALEGRIA': 1.0, 'MEDO': 2.2973935642767174e-08},\n",
              " {'ALEGRIA': 1.0, 'MEDO': 2.0507043174688988e-08},\n",
              " {'ALEGRIA': 1.0, 'MEDO': 3.902561118707126e-08},\n",
              " {'ALEGRIA': 1.0, 'MEDO': 1.0672102312980769e-08},\n",
              " {'ALEGRIA': 1.0, 'MEDO': 1.4978997597836496e-08},\n",
              " {'ALEGRIA': 1.0, 'MEDO': 3.2559868134995895e-09},\n",
              " {'ALEGRIA': 1.0, 'MEDO': 3.011320259815875e-08},\n",
              " {'ALEGRIA': 1.0, 'MEDO': 1.4750089150084023e-08},\n",
              " {'ALEGRIA': 1.0, 'MEDO': 1.9158539643626682e-08},\n",
              " {'ALEGRIA': 1.0, 'MEDO': 2.517929331702362e-08},\n",
              " {'ALEGRIA': 1.0, 'MEDO': 5.436758598875713e-09},\n",
              " {'ALEGRIA': 1.0, 'MEDO': 2.5914578927199727e-08},\n",
              " {'ALEGRIA': 1.0, 'MEDO': 3.0909980353044375e-08},\n",
              " {'ALEGRIA': 1.0, 'MEDO': 1.1069410277286806e-08},\n",
              " {'ALEGRIA': 1.0, 'MEDO': 2.7229718924104418e-08},\n",
              " {'ALEGRIA': 1.0, 'MEDO': 5.778358413977003e-08},\n",
              " {'ALEGRIA': 1.0, 'MEDO': 1.1389682974538573e-08},\n",
              " {'ALEGRIA': 1.0, 'MEDO': 4.6513708440443224e-09},\n",
              " {'ALEGRIA': 1.0, 'MEDO': 1.043610264872541e-08},\n",
              " {'ALEGRIA': 1.0, 'MEDO': 1.2474929533823342e-08},\n",
              " {'ALEGRIA': 1.0, 'MEDO': 4.18167296345473e-08},\n",
              " {'ALEGRIA': 1.0, 'MEDO': 4.430911104691404e-08},\n",
              " {'ALEGRIA': 1.0, 'MEDO': 4.2017969548169276e-08},\n",
              " {'ALEGRIA': 1.0, 'MEDO': 1.8039916227508e-08},\n",
              " {'ALEGRIA': 1.0, 'MEDO': 1.068501065404348e-09},\n",
              " {'ALEGRIA': 1.0, 'MEDO': 6.04998406927848e-09},\n",
              " {'ALEGRIA': 1.0, 'MEDO': 3.7845701683636435e-08},\n",
              " {'ALEGRIA': 1.0, 'MEDO': 5.919357892736343e-09},\n",
              " {'ALEGRIA': 1.0, 'MEDO': 3.0584774712849594e-09},\n",
              " {'ALEGRIA': 1.0, 'MEDO': 2.2175809633040444e-08},\n",
              " {'ALEGRIA': 1.0, 'MEDO': 1.6932427016058682e-08},\n",
              " {'ALEGRIA': 1.0, 'MEDO': 2.0763302188697708e-08},\n",
              " {'ALEGRIA': 1.0, 'MEDO': 1.3622154071413206e-08},\n",
              " {'ALEGRIA': 1.0, 'MEDO': 1.103201885399585e-08},\n",
              " {'ALEGRIA': 1.0, 'MEDO': 1.610777111693551e-08},\n",
              " {'ALEGRIA': 1.0, 'MEDO': 3.025309780468888e-08},\n",
              " {'ALEGRIA': 1.0, 'MEDO': 3.180357310839099e-08},\n",
              " {'ALEGRIA': 1.0, 'MEDO': 3.683225813233548e-08},\n",
              " {'ALEGRIA': 1.0, 'MEDO': 2.873662907632024e-08},\n",
              " {'ALEGRIA': 1.0, 'MEDO': 1.3086211225754596e-08},\n",
              " {'ALEGRIA': 1.0, 'MEDO': 1.4334939457683049e-08},\n",
              " {'ALEGRIA': 1.0, 'MEDO': 3.510196933120824e-08},\n",
              " {'ALEGRIA': 1.0, 'MEDO': 3.8051990003395986e-08},\n",
              " {'ALEGRIA': 1.0, 'MEDO': 1.93704394746419e-08},\n",
              " {'ALEGRIA': 1.0, 'MEDO': 9.54370271699645e-09},\n",
              " {'ALEGRIA': 1.0, 'MEDO': 1.9429830189210406e-08},\n",
              " {'ALEGRIA': 1.0, 'MEDO': 1.2015868300352395e-08},\n",
              " {'ALEGRIA': 1.0, 'MEDO': 1.9519942995316342e-08},\n",
              " {'ALEGRIA': 1.0, 'MEDO': 6.24928642167788e-09},\n",
              " {'ALEGRIA': 1.0, 'MEDO': 1.3143194976805717e-08},\n",
              " {'ALEGRIA': 1.0, 'MEDO': 9.555213509315763e-09},\n",
              " {'ALEGRIA': 1.0, 'MEDO': 3.3299677681952744e-08},\n",
              " {'ALEGRIA': 1.0, 'MEDO': 2.0064232941763294e-08},\n",
              " {'ALEGRIA': 1.0, 'MEDO': 1.1654911702407844e-08},\n",
              " {'ALEGRIA': 1.0, 'MEDO': 2.8383750461102863e-08},\n",
              " {'ALEGRIA': 1.0, 'MEDO': 3.880188614857616e-09},\n",
              " {'ALEGRIA': 1.0, 'MEDO': 1.2496910173354081e-08},\n",
              " {'ALEGRIA': 1.0, 'MEDO': 2.3254237646597176e-08},\n",
              " {'ALEGRIA': 1.0, 'MEDO': 2.1011180351138137e-08},\n",
              " {'ALEGRIA': 1.0, 'MEDO': 3.779376456236605e-08},\n",
              " {'ALEGRIA': 1.0, 'MEDO': 6.257695250866391e-09},\n",
              " {'ALEGRIA': 1.0, 'MEDO': 2.9613786978188728e-08},\n",
              " {'ALEGRIA': 1.0, 'MEDO': 1.4375462598081867e-08},\n",
              " {'ALEGRIA': 1.0, 'MEDO': 1.1230353536006987e-08},\n",
              " {'ALEGRIA': 1.0, 'MEDO': 3.5663454411860585e-08},\n",
              " {'ALEGRIA': 1.0, 'MEDO': 1.4355241440000555e-08},\n",
              " {'ALEGRIA': 4.7321073282091675e-08, 'MEDO': 1.0},\n",
              " {'ALEGRIA': 1.5022908472772656e-09, 'MEDO': 1.0},\n",
              " {'ALEGRIA': 3.5662954811499503e-09, 'MEDO': 1.0},\n",
              " {'ALEGRIA': 6.451509992899673e-09, 'MEDO': 1.0},\n",
              " {'ALEGRIA': 2.7230086629970174e-08, 'MEDO': 1.0},\n",
              " {'ALEGRIA': 3.725526553921554e-08, 'MEDO': 1.0},\n",
              " {'ALEGRIA': 3.1226399244133063e-09, 'MEDO': 1.0},\n",
              " {'ALEGRIA': 1.331426258133206e-08, 'MEDO': 1.0},\n",
              " {'ALEGRIA': 8.387820216171349e-09, 'MEDO': 1.0},\n",
              " {'ALEGRIA': 2.7728198404020077e-08, 'MEDO': 1.0},\n",
              " {'ALEGRIA': 1.2866040677295132e-08, 'MEDO': 1.0},\n",
              " {'ALEGRIA': 4.207539205935973e-08, 'MEDO': 1.0},\n",
              " {'ALEGRIA': 5.050019780128423e-08, 'MEDO': 1.0},\n",
              " {'ALEGRIA': 3.6549039350575185e-08, 'MEDO': 1.0},\n",
              " {'ALEGRIA': 1.6391167534379747e-08, 'MEDO': 1.0},\n",
              " {'ALEGRIA': 1.3406154408812654e-08, 'MEDO': 1.0},\n",
              " {'ALEGRIA': 1.29143522542563e-08, 'MEDO': 1.0},\n",
              " {'ALEGRIA': 1.060566567900878e-08, 'MEDO': 1.0},\n",
              " {'ALEGRIA': 1.4820817462180003e-08, 'MEDO': 1.0},\n",
              " {'ALEGRIA': 1.4003992632183326e-08, 'MEDO': 1.0},\n",
              " {'ALEGRIA': 6.227205062714347e-08, 'MEDO': 0.9999998807907104},\n",
              " {'ALEGRIA': 3.840143314448596e-09, 'MEDO': 1.0},\n",
              " {'ALEGRIA': 3.876129639479586e-08, 'MEDO': 1.0},\n",
              " {'ALEGRIA': 1.3234812357154624e-08, 'MEDO': 1.0},\n",
              " {'ALEGRIA': 6.709253597136922e-08, 'MEDO': 0.9999998807907104},\n",
              " {'ALEGRIA': 4.619365778779638e-09, 'MEDO': 1.0},\n",
              " {'ALEGRIA': 4.482027637919828e-09, 'MEDO': 1.0},\n",
              " {'ALEGRIA': 4.2065098071475404e-09, 'MEDO': 1.0},\n",
              " {'ALEGRIA': 4.122961527741609e-09, 'MEDO': 1.0},\n",
              " {'ALEGRIA': 2.1124495930280318e-08, 'MEDO': 1.0},\n",
              " {'ALEGRIA': 3.5386913399548803e-09, 'MEDO': 1.0},\n",
              " {'ALEGRIA': 5.241250988774482e-09, 'MEDO': 1.0},\n",
              " {'ALEGRIA': 5.772652400537481e-08, 'MEDO': 1.0},\n",
              " {'ALEGRIA': 7.618520214691671e-08, 'MEDO': 0.9999998807907104},\n",
              " {'ALEGRIA': 4.068156034264803e-09, 'MEDO': 1.0},\n",
              " {'ALEGRIA': 2.3525300818505457e-08, 'MEDO': 1.0},\n",
              " {'ALEGRIA': 3.1112744380834556e-08, 'MEDO': 1.0},\n",
              " {'ALEGRIA': 3.564833761515729e-09, 'MEDO': 1.0},\n",
              " {'ALEGRIA': 5.355094145897965e-09, 'MEDO': 1.0},\n",
              " {'ALEGRIA': 2.5945923187720155e-09, 'MEDO': 1.0},\n",
              " {'ALEGRIA': 6.7845582485404066e-09, 'MEDO': 1.0},\n",
              " {'ALEGRIA': 1.4210042920126398e-08, 'MEDO': 1.0},\n",
              " {'ALEGRIA': 3.151986405214302e-08, 'MEDO': 1.0},\n",
              " {'ALEGRIA': 2.28622525355604e-08, 'MEDO': 1.0},\n",
              " {'ALEGRIA': 2.0370093167798586e-08, 'MEDO': 1.0},\n",
              " {'ALEGRIA': 2.7906629895824153e-08, 'MEDO': 1.0},\n",
              " {'ALEGRIA': 4.705304590402193e-08, 'MEDO': 1.0},\n",
              " {'ALEGRIA': 1.6849307726829466e-08, 'MEDO': 1.0},\n",
              " {'ALEGRIA': 2.7104116284704105e-08, 'MEDO': 1.0},\n",
              " {'ALEGRIA': 1.561942397643179e-08, 'MEDO': 1.0},\n",
              " {'ALEGRIA': 1.0886638257545656e-08, 'MEDO': 1.0},\n",
              " {'ALEGRIA': 1.815351069467397e-08, 'MEDO': 1.0},\n",
              " {'ALEGRIA': 1.2118612779943305e-08, 'MEDO': 1.0},\n",
              " {'ALEGRIA': 3.281125415810493e-08, 'MEDO': 1.0},\n",
              " {'ALEGRIA': 3.8515370448521935e-08, 'MEDO': 1.0},\n",
              " {'ALEGRIA': 9.186635452351766e-09, 'MEDO': 1.0},\n",
              " {'ALEGRIA': 2.4377577290124464e-08, 'MEDO': 1.0},\n",
              " {'ALEGRIA': 3.390060854258081e-08, 'MEDO': 1.0},\n",
              " {'ALEGRIA': 1.0489690538406649e-07, 'MEDO': 0.9999998807907104},\n",
              " {'ALEGRIA': 1.2348771782910717e-08, 'MEDO': 1.0},\n",
              " {'ALEGRIA': 2.992163317117047e-08, 'MEDO': 1.0},\n",
              " {'ALEGRIA': 1.647438274687829e-08, 'MEDO': 1.0},\n",
              " {'ALEGRIA': 7.58480656060101e-09, 'MEDO': 1.0},\n",
              " {'ALEGRIA': 1.9627764302754258e-08, 'MEDO': 1.0},\n",
              " {'ALEGRIA': 5.989067375367085e-08, 'MEDO': 0.9999998807907104},\n",
              " {'ALEGRIA': 5.8263672997327376e-08, 'MEDO': 1.0},\n",
              " {'ALEGRIA': 6.981338884770594e-08, 'MEDO': 0.9999998807907104},\n",
              " {'ALEGRIA': 4.802888398103278e-08, 'MEDO': 1.0},\n",
              " {'ALEGRIA': 2.558776301953003e-08, 'MEDO': 1.0},\n",
              " {'ALEGRIA': 3.032588935525382e-08, 'MEDO': 1.0},\n",
              " {'ALEGRIA': 2.9170463378136446e-08, 'MEDO': 1.0},\n",
              " {'ALEGRIA': 1.7749531622257564e-08, 'MEDO': 1.0},\n",
              " {'ALEGRIA': 6.906610838797178e-09, 'MEDO': 1.0},\n",
              " {'ALEGRIA': 1.4701722506060833e-08, 'MEDO': 1.0},\n",
              " {'ALEGRIA': 5.105823763784656e-09, 'MEDO': 1.0},\n",
              " {'ALEGRIA': 3.8714969008424305e-08, 'MEDO': 1.0},\n",
              " {'ALEGRIA': 3.0393522365557146e-08, 'MEDO': 1.0},\n",
              " {'ALEGRIA': 5.358295140922564e-08, 'MEDO': 1.0},\n",
              " {'ALEGRIA': 3.472128540238373e-08, 'MEDO': 1.0},\n",
              " {'ALEGRIA': 2.7506276367716964e-08, 'MEDO': 1.0},\n",
              " {'ALEGRIA': 2.313690927735479e-08, 'MEDO': 1.0},\n",
              " {'ALEGRIA': 1.649236658352038e-08, 'MEDO': 1.0},\n",
              " {'ALEGRIA': 8.762923719984883e-09, 'MEDO': 1.0},\n",
              " {'ALEGRIA': 1.9199401180003406e-08, 'MEDO': 1.0}]"
            ]
          },
          "metadata": {},
          "execution_count": 56
        }
      ],
      "source": [
        "previsoes"
      ]
    },
    {
      "cell_type": "code",
      "execution_count": null,
      "metadata": {
        "id": "YXTXMXAgEDMR"
      },
      "outputs": [],
      "source": [
        "previsoes_final = []\n",
        "for previsao in previsoes:\n",
        "  if previsao['ALEGRIA'] > previsao['MEDO']:\n",
        "    previsoes_final.append('alegria')\n",
        "  else:\n",
        "    previsoes_final.append('medo')\n",
        "\n",
        "previsoes_final = np.array(previsoes_final)"
      ]
    },
    {
      "cell_type": "code",
      "execution_count": null,
      "metadata": {
        "colab": {
          "base_uri": "https://localhost:8080/"
        },
        "id": "ilep1MZKEVyg",
        "outputId": "cd923836-8188-4476-f059-dc8448878755"
      },
      "outputs": [
        {
          "output_type": "execute_result",
          "data": {
            "text/plain": [
              "array(['alegria', 'alegria', 'alegria', 'alegria', 'alegria', 'alegria',\n",
              "       'alegria', 'alegria', 'alegria', 'alegria', 'alegria', 'alegria',\n",
              "       'alegria', 'alegria', 'alegria', 'alegria', 'alegria', 'alegria',\n",
              "       'alegria', 'alegria', 'alegria', 'alegria', 'alegria', 'alegria',\n",
              "       'alegria', 'alegria', 'alegria', 'alegria', 'alegria', 'alegria',\n",
              "       'alegria', 'alegria', 'alegria', 'alegria', 'alegria', 'alegria',\n",
              "       'alegria', 'alegria', 'alegria', 'alegria', 'alegria', 'alegria',\n",
              "       'alegria', 'alegria', 'alegria', 'alegria', 'alegria', 'alegria',\n",
              "       'alegria', 'alegria', 'alegria', 'alegria', 'alegria', 'alegria',\n",
              "       'alegria', 'alegria', 'alegria', 'alegria', 'alegria', 'alegria',\n",
              "       'alegria', 'alegria', 'alegria', 'alegria', 'alegria', 'alegria',\n",
              "       'alegria', 'alegria', 'alegria', 'alegria', 'alegria', 'alegria',\n",
              "       'alegria', 'alegria', 'alegria', 'alegria', 'alegria', 'alegria',\n",
              "       'alegria', 'alegria', 'alegria', 'alegria', 'alegria', 'alegria',\n",
              "       'alegria', 'alegria', 'alegria', 'alegria', 'alegria', 'alegria',\n",
              "       'alegria', 'alegria', 'alegria', 'alegria', 'alegria', 'alegria',\n",
              "       'alegria', 'alegria', 'alegria', 'alegria', 'alegria', 'alegria',\n",
              "       'alegria', 'alegria', 'alegria', 'alegria', 'alegria', 'alegria',\n",
              "       'alegria', 'alegria', 'alegria', 'alegria', 'medo', 'medo', 'medo',\n",
              "       'medo', 'medo', 'medo', 'medo', 'medo', 'medo', 'medo', 'medo',\n",
              "       'medo', 'medo', 'medo', 'medo', 'medo', 'medo', 'medo', 'medo',\n",
              "       'medo', 'medo', 'medo', 'medo', 'medo', 'medo', 'medo', 'medo',\n",
              "       'medo', 'medo', 'medo', 'medo', 'medo', 'medo', 'medo', 'medo',\n",
              "       'medo', 'medo', 'medo', 'medo', 'medo', 'medo', 'medo', 'medo',\n",
              "       'medo', 'medo', 'medo', 'medo', 'medo', 'medo', 'medo', 'medo',\n",
              "       'medo', 'medo', 'medo', 'medo', 'medo', 'medo', 'medo', 'medo',\n",
              "       'medo', 'medo', 'medo', 'medo', 'medo', 'medo', 'medo', 'medo',\n",
              "       'medo', 'medo', 'medo', 'medo', 'medo', 'medo', 'medo', 'medo',\n",
              "       'medo', 'medo', 'medo', 'medo', 'medo', 'medo', 'medo', 'medo',\n",
              "       'medo'], dtype='<U7')"
            ]
          },
          "metadata": {},
          "execution_count": 58
        }
      ],
      "source": [
        "previsoes_final"
      ]
    },
    {
      "cell_type": "code",
      "execution_count": null,
      "metadata": {
        "colab": {
          "base_uri": "https://localhost:8080/"
        },
        "id": "3bbnP269EaYs",
        "outputId": "3f3c92c1-3a3b-454f-adaa-66dc43cf494f"
      },
      "outputs": [
        {
          "output_type": "execute_result",
          "data": {
            "text/plain": [
              "array(['alegria', 'alegria', 'alegria', 'alegria', 'alegria', 'alegria',\n",
              "       'alegria', 'alegria', 'alegria', 'alegria', 'alegria', 'alegria',\n",
              "       'alegria', 'alegria', 'alegria', 'alegria', 'alegria', 'alegria',\n",
              "       'alegria', 'alegria', 'alegria', 'alegria', 'alegria', 'alegria',\n",
              "       'alegria', 'alegria', 'alegria', 'alegria', 'alegria', 'alegria',\n",
              "       'alegria', 'alegria', 'alegria', 'alegria', 'alegria', 'alegria',\n",
              "       'alegria', 'alegria', 'alegria', 'alegria', 'alegria', 'alegria',\n",
              "       'alegria', 'alegria', 'alegria', 'alegria', 'alegria', 'alegria',\n",
              "       'alegria', 'alegria', 'alegria', 'alegria', 'alegria', 'alegria',\n",
              "       'alegria', 'alegria', 'alegria', 'alegria', 'alegria', 'alegria',\n",
              "       'alegria', 'alegria', 'alegria', 'alegria', 'alegria', 'alegria',\n",
              "       'alegria', 'alegria', 'alegria', 'alegria', 'alegria', 'alegria',\n",
              "       'alegria', 'alegria', 'alegria', 'alegria', 'alegria', 'alegria',\n",
              "       'alegria', 'alegria', 'alegria', 'alegria', 'alegria', 'alegria',\n",
              "       'alegria', 'alegria', 'alegria', 'alegria', 'alegria', 'alegria',\n",
              "       'alegria', 'alegria', 'alegria', 'alegria', 'alegria', 'alegria',\n",
              "       'alegria', 'alegria', 'alegria', 'alegria', 'alegria', 'alegria',\n",
              "       'alegria', 'alegria', 'alegria', 'alegria', 'alegria', 'alegria',\n",
              "       'alegria', 'alegria', 'alegria', 'alegria', 'medo', 'medo', 'medo',\n",
              "       'medo', 'medo', 'medo', 'medo', 'medo', 'medo', 'medo', 'medo',\n",
              "       'medo', 'medo', 'medo', 'medo', 'medo', 'medo', 'medo', 'medo',\n",
              "       'medo', 'medo', 'medo', 'medo', 'medo', 'medo', 'medo', 'medo',\n",
              "       'medo', 'medo', 'medo', 'medo', 'medo', 'medo', 'medo', 'medo',\n",
              "       'medo', 'medo', 'medo', 'medo', 'medo', 'medo', 'medo', 'medo',\n",
              "       'medo', 'medo', 'medo', 'medo', 'medo', 'medo', 'medo', 'medo',\n",
              "       'medo', 'medo', 'medo', 'medo', 'medo', 'medo', 'medo', 'medo',\n",
              "       'medo', 'medo', 'medo', 'medo', 'medo', 'medo', 'medo', 'medo',\n",
              "       'medo', 'medo', 'medo', 'medo', 'medo', 'medo', 'medo', 'medo',\n",
              "       'medo', 'medo', 'medo', 'medo', 'medo', 'medo', 'medo', 'medo',\n",
              "       'medo'], dtype=object)"
            ]
          },
          "metadata": {},
          "execution_count": 59
        }
      ],
      "source": [
        "respostas_reais = base_dados['emocao'].values\n",
        "respostas_reais"
      ]
    },
    {
      "cell_type": "code",
      "execution_count": null,
      "metadata": {
        "colab": {
          "base_uri": "https://localhost:8080/"
        },
        "id": "7dM1nOQtEo6p",
        "outputId": "f1066983-34d1-464c-ee41-7a98f77709b8"
      },
      "outputs": [
        {
          "output_type": "execute_result",
          "data": {
            "text/plain": [
              "1.0"
            ]
          },
          "metadata": {},
          "execution_count": 60
        }
      ],
      "source": [
        "from sklearn.metrics import confusion_matrix, accuracy_score\n",
        "accuracy_score(respostas_reais, previsoes_final)"
      ]
    },
    {
      "cell_type": "code",
      "execution_count": null,
      "metadata": {
        "colab": {
          "base_uri": "https://localhost:8080/"
        },
        "id": "UuI8nXdAE-Nw",
        "outputId": "fffb136d-f510-4ac8-aa02-b53411641670"
      },
      "outputs": [
        {
          "output_type": "execute_result",
          "data": {
            "text/plain": [
              "array([[112,   0],\n",
              "       [  0,  84]])"
            ]
          },
          "metadata": {},
          "execution_count": 61
        }
      ],
      "source": [
        "cm = confusion_matrix(respostas_reais, previsoes_final)\n",
        "cm"
      ]
    },
    {
      "cell_type": "markdown",
      "metadata": {
        "id": "HmLjfVrZAE2T"
      },
      "source": [
        "## Avaliação na base de teste"
      ]
    },
    {
      "cell_type": "code",
      "execution_count": null,
      "metadata": {
        "id": "I3bLzl9gFVLz"
      },
      "outputs": [],
      "source": [
        "base_dados_teste = pd.read_csv('/content/base_teste.txt', encoding = 'utf-8')"
      ]
    },
    {
      "cell_type": "code",
      "execution_count": null,
      "metadata": {
        "colab": {
          "base_uri": "https://localhost:8080/",
          "height": 206
        },
        "id": "SXregSmbFfgW",
        "outputId": "7ffa1a37-5dea-49e2-e3e3-569bc83bcbdf"
      },
      "outputs": [
        {
          "output_type": "execute_result",
          "data": {
            "text/plain": [
              "                                    texto   emocao\n",
              "0           não precisei pagar o ingresso  alegria\n",
              "1             se eu ajeitar tudo fica bem  alegria\n",
              "2        minha fortuna ultrapassará a sua  alegria\n",
              "3                    sou muito afortunado  alegria\n",
              "4  é benéfico para todos esta nova medida  alegria"
            ],
            "text/html": [
              "\n",
              "  <div id=\"df-8431948f-8dd1-4d55-baaf-5c0d3cbbf7c0\">\n",
              "    <div class=\"colab-df-container\">\n",
              "      <div>\n",
              "<style scoped>\n",
              "    .dataframe tbody tr th:only-of-type {\n",
              "        vertical-align: middle;\n",
              "    }\n",
              "\n",
              "    .dataframe tbody tr th {\n",
              "        vertical-align: top;\n",
              "    }\n",
              "\n",
              "    .dataframe thead th {\n",
              "        text-align: right;\n",
              "    }\n",
              "</style>\n",
              "<table border=\"1\" class=\"dataframe\">\n",
              "  <thead>\n",
              "    <tr style=\"text-align: right;\">\n",
              "      <th></th>\n",
              "      <th>texto</th>\n",
              "      <th>emocao</th>\n",
              "    </tr>\n",
              "  </thead>\n",
              "  <tbody>\n",
              "    <tr>\n",
              "      <th>0</th>\n",
              "      <td>não precisei pagar o ingresso</td>\n",
              "      <td>alegria</td>\n",
              "    </tr>\n",
              "    <tr>\n",
              "      <th>1</th>\n",
              "      <td>se eu ajeitar tudo fica bem</td>\n",
              "      <td>alegria</td>\n",
              "    </tr>\n",
              "    <tr>\n",
              "      <th>2</th>\n",
              "      <td>minha fortuna ultrapassará a sua</td>\n",
              "      <td>alegria</td>\n",
              "    </tr>\n",
              "    <tr>\n",
              "      <th>3</th>\n",
              "      <td>sou muito afortunado</td>\n",
              "      <td>alegria</td>\n",
              "    </tr>\n",
              "    <tr>\n",
              "      <th>4</th>\n",
              "      <td>é benéfico para todos esta nova medida</td>\n",
              "      <td>alegria</td>\n",
              "    </tr>\n",
              "  </tbody>\n",
              "</table>\n",
              "</div>\n",
              "      <button class=\"colab-df-convert\" onclick=\"convertToInteractive('df-8431948f-8dd1-4d55-baaf-5c0d3cbbf7c0')\"\n",
              "              title=\"Convert this dataframe to an interactive table.\"\n",
              "              style=\"display:none;\">\n",
              "        \n",
              "  <svg xmlns=\"http://www.w3.org/2000/svg\" height=\"24px\"viewBox=\"0 0 24 24\"\n",
              "       width=\"24px\">\n",
              "    <path d=\"M0 0h24v24H0V0z\" fill=\"none\"/>\n",
              "    <path d=\"M18.56 5.44l.94 2.06.94-2.06 2.06-.94-2.06-.94-.94-2.06-.94 2.06-2.06.94zm-11 1L8.5 8.5l.94-2.06 2.06-.94-2.06-.94L8.5 2.5l-.94 2.06-2.06.94zm10 10l.94 2.06.94-2.06 2.06-.94-2.06-.94-.94-2.06-.94 2.06-2.06.94z\"/><path d=\"M17.41 7.96l-1.37-1.37c-.4-.4-.92-.59-1.43-.59-.52 0-1.04.2-1.43.59L10.3 9.45l-7.72 7.72c-.78.78-.78 2.05 0 2.83L4 21.41c.39.39.9.59 1.41.59.51 0 1.02-.2 1.41-.59l7.78-7.78 2.81-2.81c.8-.78.8-2.07 0-2.86zM5.41 20L4 18.59l7.72-7.72 1.47 1.35L5.41 20z\"/>\n",
              "  </svg>\n",
              "      </button>\n",
              "      \n",
              "  <style>\n",
              "    .colab-df-container {\n",
              "      display:flex;\n",
              "      flex-wrap:wrap;\n",
              "      gap: 12px;\n",
              "    }\n",
              "\n",
              "    .colab-df-convert {\n",
              "      background-color: #E8F0FE;\n",
              "      border: none;\n",
              "      border-radius: 50%;\n",
              "      cursor: pointer;\n",
              "      display: none;\n",
              "      fill: #1967D2;\n",
              "      height: 32px;\n",
              "      padding: 0 0 0 0;\n",
              "      width: 32px;\n",
              "    }\n",
              "\n",
              "    .colab-df-convert:hover {\n",
              "      background-color: #E2EBFA;\n",
              "      box-shadow: 0px 1px 2px rgba(60, 64, 67, 0.3), 0px 1px 3px 1px rgba(60, 64, 67, 0.15);\n",
              "      fill: #174EA6;\n",
              "    }\n",
              "\n",
              "    [theme=dark] .colab-df-convert {\n",
              "      background-color: #3B4455;\n",
              "      fill: #D2E3FC;\n",
              "    }\n",
              "\n",
              "    [theme=dark] .colab-df-convert:hover {\n",
              "      background-color: #434B5C;\n",
              "      box-shadow: 0px 1px 3px 1px rgba(0, 0, 0, 0.15);\n",
              "      filter: drop-shadow(0px 1px 2px rgba(0, 0, 0, 0.3));\n",
              "      fill: #FFFFFF;\n",
              "    }\n",
              "  </style>\n",
              "\n",
              "      <script>\n",
              "        const buttonEl =\n",
              "          document.querySelector('#df-8431948f-8dd1-4d55-baaf-5c0d3cbbf7c0 button.colab-df-convert');\n",
              "        buttonEl.style.display =\n",
              "          google.colab.kernel.accessAllowed ? 'block' : 'none';\n",
              "\n",
              "        async function convertToInteractive(key) {\n",
              "          const element = document.querySelector('#df-8431948f-8dd1-4d55-baaf-5c0d3cbbf7c0');\n",
              "          const dataTable =\n",
              "            await google.colab.kernel.invokeFunction('convertToInteractive',\n",
              "                                                     [key], {});\n",
              "          if (!dataTable) return;\n",
              "\n",
              "          const docLinkHtml = 'Like what you see? Visit the ' +\n",
              "            '<a target=\"_blank\" href=https://colab.research.google.com/notebooks/data_table.ipynb>data table notebook</a>'\n",
              "            + ' to learn more about interactive tables.';\n",
              "          element.innerHTML = '';\n",
              "          dataTable['output_type'] = 'display_data';\n",
              "          await google.colab.output.renderOutput(dataTable, element);\n",
              "          const docLink = document.createElement('div');\n",
              "          docLink.innerHTML = docLinkHtml;\n",
              "          element.appendChild(docLink);\n",
              "        }\n",
              "      </script>\n",
              "    </div>\n",
              "  </div>\n",
              "  "
            ]
          },
          "metadata": {},
          "execution_count": 57
        }
      ],
      "source": [
        "base_dados_teste.head()"
      ]
    },
    {
      "cell_type": "code",
      "execution_count": null,
      "metadata": {
        "id": "qTvsYEmBFj6P"
      },
      "outputs": [],
      "source": [
        "base_dados_teste['texto'] = base_dados_teste['texto'].apply(preprocessamento)"
      ]
    },
    {
      "cell_type": "code",
      "execution_count": null,
      "metadata": {
        "colab": {
          "base_uri": "https://localhost:8080/",
          "height": 206
        },
        "id": "QSP38LnPFrTl",
        "outputId": "bae4d79a-a43f-4cb9-d239-66ad71426737"
      },
      "outputs": [
        {
          "output_type": "execute_result",
          "data": {
            "text/plain": [
              "                     texto   emocao\n",
              "0  precisar pagar ingresso  alegria\n",
              "1            ajeitar ficar  alegria\n",
              "2      fortuna ultrapassar  alegria\n",
              "3                afortunar  alegria\n",
              "4          benéfico medida  alegria"
            ],
            "text/html": [
              "\n",
              "  <div id=\"df-91402307-49a7-4fee-8b82-25fedfdce51c\">\n",
              "    <div class=\"colab-df-container\">\n",
              "      <div>\n",
              "<style scoped>\n",
              "    .dataframe tbody tr th:only-of-type {\n",
              "        vertical-align: middle;\n",
              "    }\n",
              "\n",
              "    .dataframe tbody tr th {\n",
              "        vertical-align: top;\n",
              "    }\n",
              "\n",
              "    .dataframe thead th {\n",
              "        text-align: right;\n",
              "    }\n",
              "</style>\n",
              "<table border=\"1\" class=\"dataframe\">\n",
              "  <thead>\n",
              "    <tr style=\"text-align: right;\">\n",
              "      <th></th>\n",
              "      <th>texto</th>\n",
              "      <th>emocao</th>\n",
              "    </tr>\n",
              "  </thead>\n",
              "  <tbody>\n",
              "    <tr>\n",
              "      <th>0</th>\n",
              "      <td>precisar pagar ingresso</td>\n",
              "      <td>alegria</td>\n",
              "    </tr>\n",
              "    <tr>\n",
              "      <th>1</th>\n",
              "      <td>ajeitar ficar</td>\n",
              "      <td>alegria</td>\n",
              "    </tr>\n",
              "    <tr>\n",
              "      <th>2</th>\n",
              "      <td>fortuna ultrapassar</td>\n",
              "      <td>alegria</td>\n",
              "    </tr>\n",
              "    <tr>\n",
              "      <th>3</th>\n",
              "      <td>afortunar</td>\n",
              "      <td>alegria</td>\n",
              "    </tr>\n",
              "    <tr>\n",
              "      <th>4</th>\n",
              "      <td>benéfico medida</td>\n",
              "      <td>alegria</td>\n",
              "    </tr>\n",
              "  </tbody>\n",
              "</table>\n",
              "</div>\n",
              "      <button class=\"colab-df-convert\" onclick=\"convertToInteractive('df-91402307-49a7-4fee-8b82-25fedfdce51c')\"\n",
              "              title=\"Convert this dataframe to an interactive table.\"\n",
              "              style=\"display:none;\">\n",
              "        \n",
              "  <svg xmlns=\"http://www.w3.org/2000/svg\" height=\"24px\"viewBox=\"0 0 24 24\"\n",
              "       width=\"24px\">\n",
              "    <path d=\"M0 0h24v24H0V0z\" fill=\"none\"/>\n",
              "    <path d=\"M18.56 5.44l.94 2.06.94-2.06 2.06-.94-2.06-.94-.94-2.06-.94 2.06-2.06.94zm-11 1L8.5 8.5l.94-2.06 2.06-.94-2.06-.94L8.5 2.5l-.94 2.06-2.06.94zm10 10l.94 2.06.94-2.06 2.06-.94-2.06-.94-.94-2.06-.94 2.06-2.06.94z\"/><path d=\"M17.41 7.96l-1.37-1.37c-.4-.4-.92-.59-1.43-.59-.52 0-1.04.2-1.43.59L10.3 9.45l-7.72 7.72c-.78.78-.78 2.05 0 2.83L4 21.41c.39.39.9.59 1.41.59.51 0 1.02-.2 1.41-.59l7.78-7.78 2.81-2.81c.8-.78.8-2.07 0-2.86zM5.41 20L4 18.59l7.72-7.72 1.47 1.35L5.41 20z\"/>\n",
              "  </svg>\n",
              "      </button>\n",
              "      \n",
              "  <style>\n",
              "    .colab-df-container {\n",
              "      display:flex;\n",
              "      flex-wrap:wrap;\n",
              "      gap: 12px;\n",
              "    }\n",
              "\n",
              "    .colab-df-convert {\n",
              "      background-color: #E8F0FE;\n",
              "      border: none;\n",
              "      border-radius: 50%;\n",
              "      cursor: pointer;\n",
              "      display: none;\n",
              "      fill: #1967D2;\n",
              "      height: 32px;\n",
              "      padding: 0 0 0 0;\n",
              "      width: 32px;\n",
              "    }\n",
              "\n",
              "    .colab-df-convert:hover {\n",
              "      background-color: #E2EBFA;\n",
              "      box-shadow: 0px 1px 2px rgba(60, 64, 67, 0.3), 0px 1px 3px 1px rgba(60, 64, 67, 0.15);\n",
              "      fill: #174EA6;\n",
              "    }\n",
              "\n",
              "    [theme=dark] .colab-df-convert {\n",
              "      background-color: #3B4455;\n",
              "      fill: #D2E3FC;\n",
              "    }\n",
              "\n",
              "    [theme=dark] .colab-df-convert:hover {\n",
              "      background-color: #434B5C;\n",
              "      box-shadow: 0px 1px 3px 1px rgba(0, 0, 0, 0.15);\n",
              "      filter: drop-shadow(0px 1px 2px rgba(0, 0, 0, 0.3));\n",
              "      fill: #FFFFFF;\n",
              "    }\n",
              "  </style>\n",
              "\n",
              "      <script>\n",
              "        const buttonEl =\n",
              "          document.querySelector('#df-91402307-49a7-4fee-8b82-25fedfdce51c button.colab-df-convert');\n",
              "        buttonEl.style.display =\n",
              "          google.colab.kernel.accessAllowed ? 'block' : 'none';\n",
              "\n",
              "        async function convertToInteractive(key) {\n",
              "          const element = document.querySelector('#df-91402307-49a7-4fee-8b82-25fedfdce51c');\n",
              "          const dataTable =\n",
              "            await google.colab.kernel.invokeFunction('convertToInteractive',\n",
              "                                                     [key], {});\n",
              "          if (!dataTable) return;\n",
              "\n",
              "          const docLinkHtml = 'Like what you see? Visit the ' +\n",
              "            '<a target=\"_blank\" href=https://colab.research.google.com/notebooks/data_table.ipynb>data table notebook</a>'\n",
              "            + ' to learn more about interactive tables.';\n",
              "          element.innerHTML = '';\n",
              "          dataTable['output_type'] = 'display_data';\n",
              "          await google.colab.output.renderOutput(dataTable, element);\n",
              "          const docLink = document.createElement('div');\n",
              "          docLink.innerHTML = docLinkHtml;\n",
              "          element.appendChild(docLink);\n",
              "        }\n",
              "      </script>\n",
              "    </div>\n",
              "  </div>\n",
              "  "
            ]
          },
          "metadata": {},
          "execution_count": 59
        }
      ],
      "source": [
        "base_dados_teste.head()"
      ]
    },
    {
      "cell_type": "code",
      "execution_count": null,
      "metadata": {
        "id": "AwmnAwRcF1sD"
      },
      "outputs": [],
      "source": [
        "previsoes = []\n",
        "for texto in base_dados_teste['texto']:\n",
        "  #print(texto)\n",
        "  previsao = modelo_carregado(texto)\n",
        "  previsoes.append(previsao.cats)"
      ]
    },
    {
      "cell_type": "code",
      "execution_count": null,
      "metadata": {
        "id": "Y7MpSvS4F8xv"
      },
      "outputs": [],
      "source": [
        "previsoes_final = []\n",
        "for previsao in previsoes:\n",
        "  if previsao['ALEGRIA'] > previsao['MEDO']:\n",
        "    previsoes_final.append('alegria')\n",
        "  else:\n",
        "    previsoes_final.append('medo')\n",
        "\n",
        "previsoes_final = np.array(previsoes_final)"
      ]
    },
    {
      "cell_type": "code",
      "execution_count": null,
      "metadata": {
        "id": "rgoCy1SXGEkw"
      },
      "outputs": [],
      "source": [
        "respostas_reais = base_dados_teste['emocao'].values"
      ]
    },
    {
      "cell_type": "code",
      "execution_count": null,
      "metadata": {
        "colab": {
          "base_uri": "https://localhost:8080/"
        },
        "id": "HbpqmtMlGJ0T",
        "outputId": "b9fbbf6d-cddc-4453-e5d0-d539c0c883a2"
      },
      "outputs": [
        {
          "output_type": "execute_result",
          "data": {
            "text/plain": [
              "0.5476190476190477"
            ]
          },
          "metadata": {},
          "execution_count": 63
        }
      ],
      "source": [
        "accuracy_score(respostas_reais, previsoes_final)"
      ]
    },
    {
      "cell_type": "code",
      "execution_count": null,
      "metadata": {
        "colab": {
          "base_uri": "https://localhost:8080/"
        },
        "id": "noYdfAJ0GQAF",
        "outputId": "9f65d87b-4921-4310-bb3b-5abbfa5b7195"
      },
      "outputs": [
        {
          "output_type": "execute_result",
          "data": {
            "text/plain": [
              "array([[31, 17],\n",
              "       [21, 15]])"
            ]
          },
          "metadata": {},
          "execution_count": 64
        }
      ],
      "source": [
        "cm = confusion_matrix(respostas_reais, previsoes_final)\n",
        "cm"
      ]
    }
  ],
  "metadata": {
    "accelerator": "GPU",
    "colab": {
      "provenance": [],
      "include_colab_link": true
    },
    "kernelspec": {
      "display_name": "Python 3",
      "name": "python3"
    }
  },
  "nbformat": 4,
  "nbformat_minor": 0
}